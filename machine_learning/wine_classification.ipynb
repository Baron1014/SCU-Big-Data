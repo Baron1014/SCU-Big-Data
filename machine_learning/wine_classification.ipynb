{
 "cells": [
  {
   "cell_type": "code",
   "execution_count": 17,
   "metadata": {},
   "outputs": [],
   "source": [
    "import pandas as pd\n",
    "df_wine=pd.read_csv('https://archive.ics.uci.edu/ml/machine-learning-databases/wine/wine.data',header=None)\n",
    "\n",
    "df_wine.columns=['Class label','Alcohol','Malic acid','Ash','Alcolinity of ash',\n",
    "                'Magnesium','Total phenols','Flavanoids','Nonflavanoid phenols','Proanthocyanins',\n",
    "                'Color intensity','Hue','0D280/0D315 of diluted wines','Proline']"
   ]
  },
  {
   "cell_type": "code",
   "execution_count": 18,
   "metadata": {},
   "outputs": [],
   "source": [
    "df_wine=df_wine[df_wine['Class label']!=1]\n",
    "\n",
    "y=df_wine['Class label'].values\n",
    "X=df_wine[['Alcohol','0D280/0D315 of diluted wines']].values"
   ]
  },
  {
   "cell_type": "code",
   "execution_count": 12,
   "metadata": {},
   "outputs": [],
   "source": [
    "from sklearn.preprocessing import LabelEncoder\n",
    "from sklearn.model_selection import train_test_split\n",
    "\n",
    "le=LabelEncoder()\n",
    "y=le.fit_transform(y)\n",
    "\n",
    "X_train,X_test,y_train,y_test=train_test_split(X,y,\n",
    "                                              test_size=0.2,\n",
    "                                              random_state=1,\n",
    "                                              stratify=y)"
   ]
  },
  {
   "cell_type": "code",
   "execution_count": 43,
   "metadata": {},
   "outputs": [
    {
     "name": "stdout",
     "output_type": "stream",
     "text": [
      "Random Forest test accuracies 0.958\n"
     ]
    }
   ],
   "source": [
    "from sklearn.ensemble import RandomForestClassifier\n",
    "rf=RandomForestClassifier(criterion='entropy',\n",
    "                         n_estimators=30,\n",
    "                         random_state=4)\n",
    "\n",
    "rf.fit(X_train,y_train)\n",
    "print('Random Forest test accuracies %.3f'%(rf.score(X_test,y_test)))"
   ]
  },
  {
   "cell_type": "code",
   "execution_count": 49,
   "metadata": {},
   "outputs": [
    {
     "name": "stdout",
     "output_type": "stream",
     "text": [
      "AdaBoost test accuracies 0.917\n",
      "DecisionTree test accuracies 0.875\n"
     ]
    }
   ],
   "source": [
    "from sklearn.tree import DecisionTreeClassifier\n",
    "from sklearn.ensemble import AdaBoostClassifier\n",
    "\n",
    "le=LabelEncoder()\n",
    "y=le.fit_transform(y)\n",
    "\n",
    "X_train,X_test,y_train,y_test=train_test_split(X,y,\n",
    "                                              test_size=0.2,\n",
    "                                              random_state=1,\n",
    "                                              stratify=y)\n",
    "\n",
    "tree=DecisionTreeClassifier(criterion='entropy',\n",
    "                           max_depth=1,\n",
    "                           random_state=1)\n",
    "ada=AdaBoostClassifier(base_estimator=tree,\n",
    "                      n_estimators=500,\n",
    "                      learning_rate=0.1,\n",
    "                      random_state=6)\n",
    "tree=tree.fit(X_train,y_train)\n",
    "ada=ada.fit(X_train,y_train)\n",
    "print('AdaBoost test accuracies %.3f'%(ada.score(X_test,y_test)))\n",
    "print('DecisionTree test accuracies %.3f'%(tree.score(X_test,y_test)))"
   ]
  },
  {
   "cell_type": "code",
   "execution_count": 32,
   "metadata": {},
   "outputs": [],
   "source": [
    "from matplotlib.colors import ListedColormap\n",
    "import numpy as np\n",
    "cmap_light=ListedColormap(['#FFAAAA','#AAFFAA','#AAAAFF'])\n",
    "cmap_bold=ListedColormap(['#FF0000','#00FF00','#0000FF'])\n",
    "#Q\n",
    "x_min,x_max=X_train[:,0].min()-1,X_train[:,0].max()+1\n",
    "y_min,y_max=X_train[:,1].min()-1,X_train[:,1].max()+1\n",
    "xx,yy=np.meshgrid(np.arange(x_min,x_max,.02),\n",
    "                 np.arange(y_min,y_max,.02))\n",
    "z=tree.predict(np.c_[xx.ravel(),yy.ravel()])\n",
    "\n"
   ]
  },
  {
   "cell_type": "code",
   "execution_count": 33,
   "metadata": {},
   "outputs": [
    {
     "data": {
      "text/plain": [
       "(0.27, 4.6700000000000035)"
      ]
     },
     "execution_count": 33,
     "metadata": {},
     "output_type": "execute_result"
    },
    {
     "data": {
      "image/png": "[encoded data removed]",
      "text/plain": [
       "<Figure size 432x288 with 1 Axes>"
      ]
     },
     "metadata": {},
     "output_type": "display_data"
    }
   ],
   "source": [
    "import matplotlib.pyplot as plt\n",
    "Z=z.reshape(xx.shape)\n",
    "plt.figure()\n",
    "plt.pcolormesh(xx,yy,Z,cmap=cmap_light)\n",
    "\n",
    "plt.scatter(X[:,0],X[:,1],c=y,cmap=cmap_bold,edgecolor='k',s=20)\n",
    "plt.xlim(xx.min(),xx.max())\n",
    "plt.ylim(yy.min(),yy.max())"
   ]
  },
  {
   "cell_type": "code",
   "execution_count": null,
   "metadata": {},
   "outputs": [],
   "source": []
  }
 ],
 "metadata": {
  "kernelspec": {
   "display_name": "Python 3",
   "language": "python",
   "name": "python3"
  },
  "language_info": {
   "codemirror_mode": {
    "name": "ipython",
    "version": 3
   },
   "file_extension": ".py",
   "mimetype": "text/x-python",
   "name": "python",
   "nbconvert_exporter": "python",
   "pygments_lexer": "ipython3",
   "version": "3.7.3"
  },
  "widgets": {
   "state": {},
   "version": "1.1.2"
  }
 },
 "nbformat": 4,
 "nbformat_minor": 2
}
