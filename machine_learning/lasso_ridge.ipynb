{
 "cells": [
  {
   "cell_type": "code",
   "execution_count": 3,
   "metadata": {},
   "outputs": [],
   "source": [
    "from sklearn.datasets import load_diabetes\n",
    "from sklearn.model_selection import train_test_split\n",
    "\n",
    "X,y = load_diabetes().data,load_diabetes().target\n",
    "X_train,X_test,y_train,y_test = train_test_split(X,y,random_state=8)"
   ]
  },
  {
   "cell_type": "code",
   "execution_count": 5,
   "metadata": {},
   "outputs": [
    {
     "name": "stdout",
     "output_type": "stream",
     "text": [
      "[   11.5106203   -282.51347161   534.20455671   401.73142674\n",
      " -1043.89718398   634.92464089   186.43262636   204.93373199\n",
      "   762.47149733    91.9460394 ]\n"
     ]
    }
   ],
   "source": [
    "from sklearn.linear_model import LinearRegression\n",
    "from sklearn.metrics import mean_squared_error\n",
    "from sklearn.metrics import r2_score\n",
    "\n",
    "slr = LinearRegression()\n",
    "\n",
    "slr.fit(X_train,y_train)\n",
    "print(slr.coef_)"
   ]
  },
  {
   "cell_type": "code",
   "execution_count": 6,
   "metadata": {},
   "outputs": [
    {
     "name": "stdout",
     "output_type": "stream",
     "text": [
      "MSE train :2812.369,test:3108.041\n",
      "R^2 train:0.530,test:0.459\n"
     ]
    }
   ],
   "source": [
    "y_train_pred = slr.predict(X_train)\n",
    "y_test_pred = slr.predict(X_test)\n",
    "print('MSE train :%.3f,test:%.3f'%(mean_squared_error(y_train,y_train_pred),\n",
    "                                  mean_squared_error(y_test,y_test_pred)))\n",
    "print('R^2 train:%.3f,test:%.3f'%(\n",
    "r2_score(y_train,y_train_pred),\n",
    "r2_score(y_test,y_test_pred)))"
   ]
  },
  {
   "cell_type": "code",
   "execution_count": 7,
   "metadata": {},
   "outputs": [
    {
     "name": "stdout",
     "output_type": "stream",
     "text": [
      "[  36.8262072   -75.80823733  282.42652716  207.39314972   -1.46580263\n",
      "  -27.81750835 -134.3740951    98.97724793  222.67543268  117.97255343]\n"
     ]
    }
   ],
   "source": [
    "from sklearn.linear_model import Ridge\n",
    "ridge = Ridge(alpha=1).fit(X_train,y_train)\n",
    "print(ridge.coef_)"
   ]
  },
  {
   "cell_type": "code",
   "execution_count": 8,
   "metadata": {},
   "outputs": [
    {
     "name": "stdout",
     "output_type": "stream",
     "text": [
      "MSE train :3397.720,test:3262.233\n",
      "R^2 train:0.433,test:0.433\n"
     ]
    }
   ],
   "source": [
    "y_train_pred=ridge.predict(X_train)\n",
    "y_test_pred = ridge.predict(X_test)\n",
    "print('MSE train :%.3f,test:%.3f'%(mean_squared_error(y_train,y_train_pred),\n",
    "                                  mean_squared_error(y_test,y_test_pred)))\n",
    "print('R^2 train:%.3f,test:%.3f'%(\n",
    "r2_score(y_train,y_train_pred),\n",
    "r2_score(y_test,y_test_pred)))"
   ]
  },
  {
   "cell_type": "code",
   "execution_count": 9,
   "metadata": {},
   "outputs": [
    {
     "name": "stdout",
     "output_type": "stream",
     "text": [
      "[  0.          -0.         384.73421807  72.69325545   0.\n",
      "   0.          -0.           0.         247.88881314   0.        ]\n"
     ]
    }
   ],
   "source": [
    "from sklearn.linear_model import Lasso\n",
    "\n",
    "lasso=Lasso(alpha=1).fit(X_train,y_train)\n",
    "print(lasso.coef_)"
   ]
  },
  {
   "cell_type": "code",
   "execution_count": 10,
   "metadata": {},
   "outputs": [
    {
     "name": "stdout",
     "output_type": "stream",
     "text": [
      "MSE train :3818.201,test:3646.836\n",
      "R^2 train:0.362,test:0.366\n"
     ]
    }
   ],
   "source": [
    "y_train_pred = lasso.predict(X_train)\n",
    "y_test_pred = lasso.predict(X_test)\n",
    "\n",
    "print('MSE train :%.3f,test:%.3f'%(mean_squared_error(y_train,y_train_pred),\n",
    "                                  mean_squared_error(y_test,y_test_pred)))\n",
    "print('R^2 train:%.3f,test:%.3f'%(\n",
    "r2_score(y_train,y_train_pred),\n",
    "r2_score(y_test,y_test_pred)))"
   ]
  },
  {
   "cell_type": "code",
   "execution_count": 12,
   "metadata": {},
   "outputs": [
    {
     "name": "stdout",
     "output_type": "stream",
     "text": [
      "[ 15.08676646  -1.9586191   60.69903425  47.11843221  14.72337546\n",
      "   9.87779644 -35.56015266  35.74603575  54.27193163  37.42095846]\n",
      "MSE train :5083.146,test:4817.252\n",
      "R^2 train:0.151,test:0.162\n"
     ]
    }
   ],
   "source": [
    "#alpha = 10\n",
    "ridge = Ridge(alpha=10).fit(X_train,y_train)\n",
    "print(ridge.coef_)\n",
    "\n",
    "y_train_pred=ridge.predict(X_train)\n",
    "y_test_pred = ridge.predict(X_test)\n",
    "print('MSE train :%.3f,test:%.3f'%(mean_squared_error(y_train,y_train_pred),\n",
    "                                  mean_squared_error(y_test,y_test_pred)))\n",
    "print('R^2 train:%.3f,test:%.3f'%(\n",
    "r2_score(y_train,y_train_pred),\n",
    "r2_score(y_test,y_test_pred)))"
   ]
  },
  {
   "cell_type": "code",
   "execution_count": 13,
   "metadata": {},
   "outputs": [
    {
     "name": "stdout",
     "output_type": "stream",
     "text": [
      "[  24.77802114 -228.33364296  495.54594378  361.21481169 -109.82542594\n",
      "  -78.3286822  -190.69780344  108.24040795  383.72269392  107.42593373]\n",
      "MSE train :2865.170,test:3027.227\n",
      "R^2 train:0.522,test:0.473\n"
     ]
    }
   ],
   "source": [
    "#alpha = 0.1\n",
    "ridge = Ridge(alpha=0.1).fit(X_train,y_train)\n",
    "print(ridge.coef_)\n",
    "\n",
    "y_train_pred=ridge.predict(X_train)\n",
    "y_test_pred = ridge.predict(X_test)\n",
    "print('MSE train :%.3f,test:%.3f'%(mean_squared_error(y_train,y_train_pred),\n",
    "                                  mean_squared_error(y_test,y_test_pred)))\n",
    "print('R^2 train:%.3f,test:%.3f'%(\n",
    "r2_score(y_train,y_train_pred),\n",
    "r2_score(y_test,y_test_pred)))"
   ]
  },
  {
   "cell_type": "code",
   "execution_count": 14,
   "metadata": {},
   "outputs": [
    {
     "name": "stdout",
     "output_type": "stream",
     "text": [
      "[   0.         -181.40911617  537.71961152  355.19720303 -105.43471481\n",
      "   -0.         -198.99829878    0.          440.25133426   48.25573121]\n",
      "MSE train :2877.650,test:2989.599\n",
      "R^2 train:0.519,test:0.480\n"
     ]
    }
   ],
   "source": [
    "#alpha = 0.1\n",
    "lasso=Lasso(alpha=0.1).fit(X_train,y_train)\n",
    "print(lasso.coef_)\n",
    "\n",
    "y_train_pred = lasso.predict(X_train)\n",
    "y_test_pred = lasso.predict(X_test)\n",
    "\n",
    "print('MSE train :%.3f,test:%.3f'%(mean_squared_error(y_train,y_train_pred),\n",
    "                                  mean_squared_error(y_test,y_test_pred)))\n",
    "print('R^2 train:%.3f,test:%.3f'%(\n",
    "r2_score(y_train,y_train_pred),\n",
    "r2_score(y_test,y_test_pred)))"
   ]
  },
  {
   "cell_type": "code",
   "execution_count": 15,
   "metadata": {},
   "outputs": [
    {
     "name": "stdout",
     "output_type": "stream",
     "text": [
      "[  11.82931254 -281.06324599  534.59556593  401.25597128 -971.04936503\n",
      "  579.28119134  151.83257187  191.85084436  736.83680063   91.17487055]\n",
      "MSE train :2812.574,test:3102.099\n",
      "R^2 train:0.530,test:0.460\n"
     ]
    }
   ],
   "source": [
    "#alpha = 0.001\n",
    "lasso=Lasso(alpha=0.001).fit(X_train,y_train)\n",
    "print(lasso.coef_)\n",
    "\n",
    "y_train_pred = lasso.predict(X_train)\n",
    "y_test_pred = lasso.predict(X_test)\n",
    "\n",
    "print('MSE train :%.3f,test:%.3f'%(mean_squared_error(y_train,y_train_pred),\n",
    "                                  mean_squared_error(y_test,y_test_pred)))\n",
    "print('R^2 train:%.3f,test:%.3f'%(\n",
    "r2_score(y_train,y_train_pred),\n",
    "r2_score(y_test,y_test_pred)))"
   ]
  },
  {
   "cell_type": "code",
   "execution_count": null,
   "metadata": {},
   "outputs": [],
   "source": []
  }
 ],
 "metadata": {
  "kernelspec": {
   "display_name": "Python 3",
   "language": "python",
   "name": "python3"
  },
  "language_info": {
   "codemirror_mode": {
    "name": "ipython",
    "version": 3
   },
   "file_extension": ".py",
   "mimetype": "text/x-python",
   "name": "python",
   "nbconvert_exporter": "python",
   "pygments_lexer": "ipython3",
   "version": "3.7.3"
  },
  "widgets": {
   "state": {},
   "version": "1.1.2"
  }
 },
 "nbformat": 4,
 "nbformat_minor": 2
}
