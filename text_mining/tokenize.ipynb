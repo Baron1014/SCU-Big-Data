{
 "cells": [
  {
   "cell_type": "code",
   "execution_count": 2,
   "metadata": {},
   "outputs": [],
   "source": [
    "import nltk"
   ]
  },
  {
   "cell_type": "code",
   "execution_count": 3,
   "metadata": {},
   "outputs": [],
   "source": [
    "from stanfordcorenlp import StanfordCoreNLP"
   ]
  },
  {
   "cell_type": "code",
   "execution_count": 4,
   "metadata": {},
   "outputs": [],
   "source": [
    "import jieba\n",
    "jieba.set_dictionary('dict/dict.txt.big.txt')"
   ]
  },
  {
   "cell_type": "code",
   "execution_count": 5,
   "metadata": {},
   "outputs": [],
   "source": [
    "sentence=open('dict/english.txt','r',encoding='utf-8').read()"
   ]
  },
  {
   "cell_type": "code",
   "execution_count": 7,
   "metadata": {},
   "outputs": [],
   "source": [
    "NLPAnnotator=StanfordCoreNLP(path_or_host='stanford-corenlp-full-2018-10-05',lang='en',memory='1g')"
   ]
  },
  {
   "cell_type": "code",
   "execution_count": 8,
   "metadata": {},
   "outputs": [
    {
     "name": "stdout",
     "output_type": "stream",
     "text": [
      "Tokenize: ['Soochow', 'University', 'has', 'been', 'constructing', 'solid', 'foundation', 'of', '“', 'data', 'analysis', '”', 'since', 'the', 'past', 'few', 'years', ',', 'and', 'the', 'establishment', 'of', 'School', 'of', 'Big', 'Data', 'Management', 'will', 'absolutely', 'create', 'the', 'most', 'general', 'benefit', 'through', 'integrating', 'energy', 'and', 'precious', 'practical', 'experience', 'of', 'SCU', '.']\n"
     ]
    }
   ],
   "source": [
    "print('Tokenize:',NLPAnnotator.word_tokenize(sentence))"
   ]
  },
  {
   "cell_type": "code",
   "execution_count": 4,
   "metadata": {},
   "outputs": [],
   "source": [
    "sentence=open('dict/chinese.txt','r',encoding='utf-8').read()"
   ]
  },
  {
   "cell_type": "code",
   "execution_count": 31,
   "metadata": {},
   "outputs": [],
   "source": [
    "NLPAnnotator=StanfordCoreNLP(path_or_host='stanford-corenlp-full-2018-10-05',lang='zh',memory='1g')"
   ]
  },
  {
   "cell_type": "code",
   "execution_count": 32,
   "metadata": {},
   "outputs": [
    {
     "name": "stdout",
     "output_type": "stream",
     "text": [
      "Tokenize: ['陳良基', '致詞', '指出', '，', '近', '10', '年', '來新入', '學', '博士生', '人', '數大幅', '減少', '，', '技術類', '博士生', '總數', '10', '年', '內', '下降', '33%', '，', '其中', '高科技', '類型', '資', '通訊', '博士生', '更是', '下降', '45%', '，', '幾乎減半', '。']\n"
     ]
    }
   ],
   "source": [
    "print('Tokenize:',NLPAnnotator.word_tokenize(sentence))"
   ]
  },
  {
   "cell_type": "code",
   "execution_count": 12,
   "metadata": {},
   "outputs": [],
   "source": [
    " sentence=open('dict/chinese.txt','r',encoding='utf-8').read()"
   ]
  },
  {
   "cell_type": "code",
   "execution_count": 13,
   "metadata": {},
   "outputs": [
    {
     "name": "stderr",
     "output_type": "stream",
     "text": [
      "Building prefix dict from D:\\baron\\SCU\\巨資\\四上\\文字探勘\\dict.txt.big.txt ...\n",
      "DEBUG:jieba:Building prefix dict from D:\\baron\\SCU\\巨資\\四上\\文字探勘\\dict.txt.big.txt ...\n",
      "Dumping model to file cache C:\\Users\\1070801\\AppData\\Local\\Temp\\jieba.u4952bdca97d48dbc4c5284beb255f90f.cache\n",
      "DEBUG:jieba:Dumping model to file cache C:\\Users\\1070801\\AppData\\Local\\Temp\\jieba.u4952bdca97d48dbc4c5284beb255f90f.cache\n",
      "Loading model cost 2.669 seconds.\n",
      "DEBUG:jieba:Loading model cost 2.669 seconds.\n",
      "Prefix dict has been built succesfully.\n",
      "DEBUG:jieba:Prefix dict has been built succesfully.\n"
     ]
    },
    {
     "name": "stdout",
     "output_type": "stream",
     "text": [
      "['陳', '良基', '致詞', '指出', '，', '近', '10', '年來', '新', '入學', '博士生', '人數', '大幅', '減少', '，', '技術類', '博士生', '總數', '10', '年內', '下降', '33%', '，', '其中', '高科技', '類型', '資', '通訊', '博士生', '更是', '下降', '45%', '，', '幾乎', '減半', '。', '\\n']\n"
     ]
    }
   ],
   "source": [
    "print(list(jieba.cut(sentence)))"
   ]
  },
  {
   "cell_type": "code",
   "execution_count": 15,
   "metadata": {},
   "outputs": [],
   "source": [
    "jieba.load_userdict(\"dict/userdict.txt\")"
   ]
  },
  {
   "cell_type": "code",
   "execution_count": 18,
   "metadata": {},
   "outputs": [],
   "source": [
    "jieba.add_word('陳良基')\n",
    "jieba.add_word('10年')\n",
    "jieba.add_word('更')"
   ]
  },
  {
   "cell_type": "code",
   "execution_count": 19,
   "metadata": {},
   "outputs": [
    {
     "name": "stdout",
     "output_type": "stream",
     "text": [
      "['陳良基', '致詞', '指出', '，', '近', '10年', '來', '新', '入學', '博士生', '人數', '大幅', '減少', '，', '技術類', '博士生', '總數', '10年', '內', '下降', '33%', '，', '其中', '高科技', '類型', '資', '通訊', '博士生', '更是', '下降', '45%', '，', '幾乎', '減半', '。', '\\n']\n"
     ]
    }
   ],
   "source": [
    "print(list(jieba.cut(sentence)))"
   ]
  },
  {
   "cell_type": "code",
   "execution_count": 21,
   "metadata": {},
   "outputs": [
    {
     "name": "stdout",
     "output_type": "stream",
     "text": [
      "Part of Speech: [('Soochow', 'NNP'), ('University', 'NNP'), ('has', 'VBZ'), ('been', 'VBN'), ('constructing', 'VBG'), ('solid', 'JJ'), ('foundation', 'NN'), ('of', 'IN'), ('“', '``'), ('data', 'NN'), ('analysis', 'NN'), ('”', \"''\"), ('since', 'IN'), ('the', 'DT'), ('past', 'JJ'), ('few', 'JJ'), ('years', 'NNS'), (',', ','), ('and', 'CC'), ('the', 'DT'), ('establishment', 'NN'), ('of', 'IN'), ('School', 'NNP'), ('of', 'IN'), ('Big', 'NNP'), ('Data', 'NNP'), ('Management', 'NNP'), ('will', 'MD'), ('absolutely', 'RB'), ('create', 'VB'), ('the', 'DT'), ('most', 'RBS'), ('general', 'JJ'), ('benefit', 'NN'), ('through', 'IN'), ('integrating', 'VBG'), ('energy', 'NN'), ('and', 'CC'), ('precious', 'JJ'), ('practical', 'JJ'), ('experience', 'NN'), ('of', 'IN'), ('SCU', 'NN'), ('.', '.')]\n"
     ]
    }
   ],
   "source": [
    "sentence=open('dict/english.txt','r',encoding='utf-8').read()\n",
    "NLPAnnotator=StanfordCoreNLP(path_or_host='stanford-corenlp-full-2018-10-05',lang='en',memory='1g')\n",
    "print('Part of Speech:',NLPAnnotator.pos_tag(sentence))"
   ]
  },
  {
   "cell_type": "code",
   "execution_count": 27,
   "metadata": {},
   "outputs": [
    {
     "name": "stdout",
     "output_type": "stream",
     "text": [
      "[pair('陳良基', 'x'), pair('致詞', 'n'), pair('指出', 'v'), pair('，', 'x'), pair('近', 'a'), pair('10年', 'x'), pair('來', 'v'), pair('新', 'a'), pair('入學', 'n'), pair('博士生', 'nr'), pair('人數', 'n'), pair('大幅', 'd'), pair('減少', 'v'), pair('，', 'x'), pair('技術類', 'n'), pair('博士生', 'nr'), pair('總數', 'n'), pair('10年', 'x'), pair('內', 'n'), pair('下降', 'v'), pair('33', 'm'), pair('%', 'x'), pair('，', 'x'), pair('其中', 'r'), pair('高科技', 'nz'), pair('類型', 'n'), pair('資', 'zg'), pair('通訊', 'nz'), pair('博士生', 'nr'), pair('更是', 'd'), pair('下降', 'v'), pair('45', 'm'), pair('%', 'x'), pair('，', 'x'), pair('幾乎', 'd'), pair('減半', 'v'), pair('。', 'x'), pair('\\n', 'x')]\n"
     ]
    }
   ],
   "source": [
    "import jieba.posseg as pseg\n",
    "Sentence=open('dict/chinese.txt','r',encoding='utf-8').read()\n",
    "print(list(pseg.cut(Sentence)))"
   ]
  },
  {
   "cell_type": "code",
   "execution_count": 7,
   "metadata": {},
   "outputs": [
    {
     "name": "stdout",
     "output_type": "stream",
     "text": [
      "Dependency Parsing: [('ROOT', 0, 3), ('nsubj', 3, 1), ('compound:vc', 3, 2), ('punct', 3, 4), ('advmod', 6, 5), ('dep', 9, 6), ('mark:clf', 6, 7), ('nsubj', 9, 8), ('ccomp', 3, 9), ('compound:nn', 11, 10), ('nsubj', 13, 11), ('advmod', 13, 12), ('ccomp', 9, 13), ('punct', 9, 14), ('compound:nn', 16, 15), ('nsubj', 17, 16), ('conj', 9, 17), ('nummod', 20, 18), ('mark:clf', 18, 19), ('dobj', 17, 20), ('conj', 17, 21), ('nmod:range', 21, 22), ('punct', 9, 23), ('nmod:topic', 27, 24), ('compound:nn', 26, 25), ('nsubj', 27, 26), ('conj', 9, 27), ('ccomp', 27, 28), ('dobj', 28, 29), ('advmod', 31, 30), ('conj', 28, 31), ('nmod:range', 31, 32), ('punct', 27, 33), ('conj', 27, 34), ('punct', 3, 35)]\n"
     ]
    }
   ],
   "source": [
    "from stanfordcorenlp import StanfordCoreNLP\n",
    "Sentence=open('dict/chinese.txt','r',encoding='utf-8').read()\n",
    "NLPAnnotator = StanfordCoreNLP(path_or_host='stanford-corenlp-full-2018-10-05',lang='zh',memory='2g')\n",
    "print('Dependency Parsing:',NLPAnnotator.dependency_parse(Sentence))"
   ]
  },
  {
   "cell_type": "code",
   "execution_count": 9,
   "metadata": {},
   "outputs": [
    {
     "name": "stderr",
     "output_type": "stream",
     "text": [
      "Building prefix dict from D:\\baron\\SCU\\巨資\\四上\\文字探勘\\dict.txt.big.txt ...\n",
      "DEBUG:jieba:Building prefix dict from D:\\baron\\SCU\\巨資\\四上\\文字探勘\\dict.txt.big.txt ...\n",
      "Loading model from cache C:\\Users\\1070801\\AppData\\Local\\Temp\\jieba.u4952bdca97d48dbc4c5284beb255f90f.cache\n",
      "DEBUG:jieba:Loading model from cache C:\\Users\\1070801\\AppData\\Local\\Temp\\jieba.u4952bdca97d48dbc4c5284beb255f90f.cache\n",
      "Loading model cost 1.530 seconds.\n",
      "DEBUG:jieba:Loading model cost 1.530 seconds.\n",
      "Prefix dict has been built succesfully.\n",
      "DEBUG:jieba:Prefix dict has been built succesfully.\n"
     ]
    },
    {
     "name": "stdout",
     "output_type": "stream",
     "text": [
      "['本院', '的', '課程', '規劃', '強調', '學生', '「', '資料', '分析', '」', '、', '「', '資訊科技', '工具', '運用', '」', '及', '「', '巨量', '資料', '應用', '」', '三', '大方向', '。', '課程設計', '首先', '包括', '資料', '科學', '與', '巨量', '資料', '課程', '，', '強調', '學生', '如何', '運用', '資料', '分析方法', '，', '轉換', '為', '情報', '以', '預測', '未來', '環境', '；', '二為', '資訊科技', '運用', '相關', '課程', '，', '主要', '讓', '學生', '透過', '資訊科技', '工具', '的', '操作', '與', '運用', '，', '如', 'SAS', '、', 'R', '等', '統計', '軟體', '運用', '，', '提升', '分析', '資料', '的', '技巧', '並', '學習', '資料', '視覺', '化', '的', '能力', '；', '三為', '專業', '領域', '選修', '課程', '，', '透過', '自然科學', '領域', '、', '人文', '社會科學', '領域', '及', '商管', '領域', '擇一', '的', '專業', '選修', '課程', '，', '以及', '進行', '專題', '製作', '，', '提供', '學生', '專業', '領域', '的', '學習', '應用', '經驗', '。', '\\n']\n"
     ]
    }
   ],
   "source": [
    "import jieba\n",
    "jieba.set_dictionary('dict/dict.txt.big.txt')\n",
    "sentence=open('dict/exam_zh.txt','r',encoding='utf-8').read()\n",
    "NLPAnnotator=StanfordCoreNLP(path_or_host='stanford-corenlp-full-2018-10-05',lang='zh',memory='1g')\n",
    "print(list(jieba.cut(sentence)))"
   ]
  },
  {
   "cell_type": "code",
   "execution_count": 11,
   "metadata": {},
   "outputs": [
    {
     "name": "stdout",
     "output_type": "stream",
     "text": [
      "[pair('本院', 'n'), pair('的', 'uj'), pair('課程', 'n'), pair('規劃', 'n'), pair('強調', 'v'), pair('學生', 'n'), pair('「', 'x'), pair('資料', 'n'), pair('分析', 'vn'), pair('」', 'x'), pair('、', 'x'), pair('「', 'x'), pair('資訊科技', 'n'), pair('工具', 'n'), pair('運用', 'vn'), pair('」', 'x'), pair('及', 'c'), pair('「', 'x'), pair('巨量', 'n'), pair('資料', 'n'), pair('應用', 'v'), pair('」', 'x'), pair('三', 'm'), pair('大方向', 'n'), pair('。', 'x'), pair('課程設計', 'n'), pair('首先', 'd'), pair('包括', 'v'), pair('資料', 'n'), pair('科學', 'n'), pair('與', 'zg'), pair('巨量', 'n'), pair('資料', 'n'), pair('課程', 'n'), pair('，', 'x'), pair('強調', 'v'), pair('學生', 'n'), pair('如何', 'r'), pair('運用', 'vn'), pair('資料', 'n'), pair('分析方法', 'n'), pair('，', 'x'), pair('轉換', 'v'), pair('為', 'zg'), pair('情報', 'n'), pair('以', 'p'), pair('預測', 'vn'), pair('未來', 't'), pair('環境', 'n'), pair('；', 'x'), pair('二', 'm'), pair('為', 'p'), pair('資訊科技', 'n'), pair('運用', 'vn'), pair('相關', 'v'), pair('課程', 'n'), pair('，', 'x'), pair('主要', 'b'), pair('讓', 'v'), pair('學生', 'n'), pair('透過', 'v'), pair('資訊科技', 'n'), pair('工具', 'n'), pair('的', 'uj'), pair('操作', 'v'), pair('與', 'zg'), pair('運用', 'vn'), pair('，', 'x'), pair('如', 'c'), pair('SAS', 'eng'), pair('、', 'x'), pair('R', 'eng'), pair('等', 'u'), pair('統計', 'v'), pair('軟體', 'n'), pair('運用', 'vn'), pair('，', 'x'), pair('提升', 'v'), pair('分析', 'vn'), pair('資料', 'n'), pair('的', 'uj'), pair('技巧', 'n'), pair('並', 'c'), pair('學習', 'v'), pair('資料', 'n'), pair('視覺', 'n'), pair('化', 'v'), pair('的', 'uj'), pair('能力', 'n'), pair('；', 'x'), pair('三', 'm'), pair('為', 'p'), pair('專業', 'n'), pair('領域', 'n'), pair('選修', 'v'), pair('課程', 'n'), pair('，', 'x'), pair('透過', 'v'), pair('自然科學', 'l'), pair('領域', 'n'), pair('、', 'x'), pair('人文', 'n'), pair('社會科學', 'nt'), pair('領域', 'n'), pair('及', 'c'), pair('商管', 'n'), pair('領域', 'n'), pair('擇', 'v'), pair('一', 'm'), pair('的', 'uj'), pair('專業', 'n'), pair('選修', 'v'), pair('課程', 'n'), pair('，', 'x'), pair('以及', 'c'), pair('進行', 'v'), pair('專題', 'n'), pair('製作', 'vn'), pair('，', 'x'), pair('提供', 'v'), pair('學生', 'n'), pair('專業', 'n'), pair('領域', 'n'), pair('的', 'uj'), pair('學習', 'v'), pair('應用', 'v'), pair('經驗', 'n'), pair('。', 'x'), pair('\\n', 'x')]\n"
     ]
    }
   ],
   "source": [
    "import jieba.posseg as pseg\n",
    "Sentence=open('dict/exam_zh.txt','r',encoding='utf-8').read()\n",
    "print(list(pseg.cut(Sentence)))"
   ]
  },
  {
   "cell_type": "code",
   "execution_count": 12,
   "metadata": {},
   "outputs": [
    {
     "name": "stdout",
     "output_type": "stream",
     "text": [
      "Dependency Parsing: [('本院', 'NN'), ('的', 'DEG'), ('課程', 'NN'), ('規劃強調學', 'VV'), ('生', 'VV'), ('「', 'PU'), ('資料', 'NN'), ('分析', 'VV'), ('」', 'PU'), ('、', 'PU'), ('「', 'PU'), ('資訊', 'NR'), ('科技', 'NN'), ('工具', 'NN'), ('運用', 'VV'), ('」', 'PU'), ('及', 'CC'), ('「', 'PU'), ('巨量', 'AD'), ('資料應用', 'VV'), ('」', 'PU'), ('三', 'CD'), ('大', 'JJ'), ('方向', 'NN'), ('。', 'PU'), ('課程', 'NN'), ('設計', 'NN'), ('首先', 'AD'), ('包括', 'VV'), ('資料', 'NN'), ('科學與', 'NN'), ('巨量', 'AD'), ('資料', 'VV'), ('課程', 'NN'), ('，', 'PU'), ('強調學', 'NN'), ('生', 'VV'), ('如何', 'AD'), ('運用', 'VV'), ('資料', 'NN'), ('分析', 'NN'), ('方法', 'NN'), ('，', 'PU'), ('轉換為', 'NN'), ('情報', 'NN'), ('以', 'P'), ('預測', 'NN'), ('未', 'AD'), ('來環', 'VV'), ('境', 'NN'), ('；', 'PU'), ('二為資訊', 'NR'), ('科技', 'NN'), ('運用', 'NN'), ('相關課程', 'VV'), ('，', 'PU'), ('主要', 'AD'), ('讓學', 'VV'), ('生', 'VV'), ('透過', 'NN'), ('資訊', 'NN'), ('科技', 'NN'), ('工具', 'NN'), ('的', 'DEG'), ('操作', 'NN'), ('與運', 'NN'), ('用', 'VV'), ('，', 'PU'), ('如', 'AD'), ('SAS', 'NN'), ('、', 'PU'), ('R', 'NN'), ('等', 'ETC'), ('統計軟體運', 'VV'), ('用', 'VV'), ('，', 'PU'), ('提升', 'VV'), ('分析', 'VV'), ('資料', 'NN'), ('的', 'DEC'), ('技巧', 'NN'), ('並學習資', 'NN'), ('料視', 'VV'), ('覺化', 'VV'), ('的', 'DEC'), ('能力', 'NN'), ('；', 'PU'), ('三為專', 'NR'), ('業領域選', 'AD'), ('修', 'VV'), ('課程', 'NN'), ('，', 'PU'), ('透過', 'VV'), ('自然', 'NN'), ('科學領域', 'NN'), ('、', 'PU'), ('人文', 'NN'), ('社會', 'NN'), ('科學領域', 'NN'), ('及', 'CC'), ('商管', 'NN'), ('領域擇', 'NN'), ('一', 'CD'), ('的', 'DEG'), ('專業選', 'NN'), ('修', 'VV'), ('課程', 'NN'), ('，', 'PU'), ('以及', 'CC'), ('進行', 'VV'), ('專題製', 'NN'), ('作', 'VV'), ('，', 'PU'), ('提供', 'VV'), ('學生專業領域', 'NN'), ('的', 'DEC'), ('學習應', 'NN'), ('用', 'VV'), ('經驗', 'NN'), ('。', 'PU')]\n"
     ]
    }
   ],
   "source": [
    "from stanfordcorenlp import StanfordCoreNLP\n",
    "Sentence=open('dict/exam_zh.txt','r',encoding='utf-8').read()\n",
    "NLPAnnotator = StanfordCoreNLP(path_or_host='stanford-corenlp-full-2018-10-05',lang='zh',memory='2g')\n",
    "print('Dependency Parsing:',NLPAnnotator.pos_tag(Sentence))"
   ]
  }
 ],
 "metadata": {
  "kernelspec": {
   "display_name": "Python 3",
   "language": "python",
   "name": "python3"
  },
  "language_info": {
   "codemirror_mode": {
    "name": "ipython",
    "version": 3
   },
   "file_extension": ".py",
   "mimetype": "text/x-python",
   "name": "python",
   "nbconvert_exporter": "python",
   "pygments_lexer": "ipython3",
   "version": "3.7.3"
  },
  "widgets": {
   "state": {},
   "version": "1.1.2"
  }
 },
 "nbformat": 4,
 "nbformat_minor": 2
}
