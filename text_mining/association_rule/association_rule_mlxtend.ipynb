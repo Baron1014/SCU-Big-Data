{
 "cells": [
  {
   "cell_type": "markdown",
   "metadata": {},
   "source": [
    "# Association Rules Generation from Frequent Itemsets\n",
    "* Function to generate association rules from frequent itemsets\n",
    "* Reference: https://rasbt.github.io/mlxtend/user_guide/frequent_patterns/association_rules/\n",
    "\n",
    "## Metrics\n",
    "\n",
    "- 'support':\n",
    "    support(A→C)=support(A∪C),range: [0,1]\n",
    "\n",
    "- 'confidence':\n",
    "    confidence(A→C)=support(A→C)/support(A),range: [0,1]\n",
    "\n",
    "- 'lift':\n",
    "    lift(A→C)=confidence(A→C)/support(C),range: [0,∞]\n",
    "\n",
    "- 'leverage':\n",
    "    levarage(A→C)=support(A→C)−support(A)*support(C),range: [−1,1]\n",
    "\n",
    "- 'conviction':\n",
    "    onviction(A→C)=1−support(C)/1−confidence(A→C),range: [0,∞]\n",
    "    \n",
    "    "
   ]
  },
  {
   "cell_type": "code",
   "execution_count": 2,
   "metadata": {},
   "outputs": [],
   "source": [
    "import pandas as pd\n",
    "from mlxtend.preprocessing import TransactionEncoder\n",
    "from mlxtend.frequent_patterns import apriori\n",
    "from mlxtend.frequent_patterns import association_rules"
   ]
  },
  {
   "cell_type": "code",
   "execution_count": 3,
   "metadata": {},
   "outputs": [
    {
     "name": "stdout",
     "output_type": "stream",
     "text": [
      "    support                     itemsets\n",
      "0       0.8                       (Eggs)\n",
      "1       1.0               (Kidney Beans)\n",
      "2       0.6                       (Milk)\n",
      "3       0.6                      (Onion)\n",
      "4       0.6                     (Yogurt)\n",
      "5       0.8         (Eggs, Kidney Beans)\n",
      "6       0.6                (Onion, Eggs)\n",
      "7       0.6         (Milk, Kidney Beans)\n",
      "8       0.6        (Onion, Kidney Beans)\n",
      "9       0.6       (Yogurt, Kidney Beans)\n",
      "10      0.6  (Onion, Eggs, Kidney Beans)\n"
     ]
    }
   ],
   "source": [
    "dataset = [['Milk', 'Onion', 'Nutmeg', 'Kidney Beans', 'Eggs', 'Yogurt'],\n",
    "           ['Dill', 'Onion', 'Nutmeg', 'Kidney Beans', 'Eggs', 'Yogurt'],\n",
    "           ['Milk', 'Apple', 'Kidney Beans', 'Eggs'],\n",
    "           ['Milk', 'Unicorn', 'Corn', 'Kidney Beans', 'Yogurt'],\n",
    "           ['Corn', 'Onion', 'Onion', 'Kidney Beans', 'Ice cream', 'Eggs']]\n",
    "\n",
    "te = TransactionEncoder()\n",
    "te_ary = te.fit(dataset).transform(dataset)\n",
    "df = pd.DataFrame(te_ary, columns=te.columns_)\n",
    "frequent_itemsets = apriori(df, min_support=0.6, use_colnames=True)\n",
    "print(frequent_itemsets)"
   ]
  },
  {
   "cell_type": "markdown",
   "metadata": {},
   "source": [
    "# Example 1 -- Generating Association Rules from Frequent Itemsets\n"
   ]
  },
  {
   "cell_type": "code",
   "execution_count": 4,
   "metadata": {},
   "outputs": [
    {
     "name": "stdout",
     "output_type": "stream",
     "text": [
      "              antecedents            consequents  antecedent support  \\\n",
      "0           (Onion, Eggs)         (Kidney Beans)                 0.6   \n",
      "1   (Onion, Kidney Beans)                 (Eggs)                 0.6   \n",
      "2    (Eggs, Kidney Beans)                (Onion)                 0.8   \n",
      "3                 (Onion)   (Eggs, Kidney Beans)                 0.6   \n",
      "4                  (Eggs)  (Onion, Kidney Beans)                 0.8   \n",
      "5                 (Onion)                 (Eggs)                 0.6   \n",
      "6                  (Eggs)                (Onion)                 0.8   \n",
      "7                  (Eggs)         (Kidney Beans)                 0.8   \n",
      "8          (Kidney Beans)                 (Eggs)                 1.0   \n",
      "9                  (Milk)         (Kidney Beans)                 0.6   \n",
      "10               (Yogurt)         (Kidney Beans)                 0.6   \n",
      "11                (Onion)         (Kidney Beans)                 0.6   \n",
      "\n",
      "    consequent support  support  confidence  lift  leverage  conviction  \n",
      "0                  1.0      0.6        1.00  1.00      0.00         inf  \n",
      "1                  0.8      0.6        1.00  1.25      0.12         inf  \n",
      "2                  0.6      0.6        0.75  1.25      0.12    1.600000  \n",
      "3                  0.8      0.6        1.00  1.25      0.12         inf  \n",
      "4                  0.6      0.6        0.75  1.25      0.12    1.600000  \n",
      "5                  0.8      0.6        1.00  1.25      0.12         inf  \n",
      "6                  0.6      0.6        0.75  1.25      0.12    1.600000  \n",
      "7                  1.0      0.8        1.00  1.00      0.00         inf  \n",
      "8                  0.8      0.8        0.80  1.00      0.00    1.000000  \n",
      "9                  1.0      0.6        1.00  1.00      0.00         inf  \n",
      "10                 1.0      0.6        1.00  1.00      0.00         inf  \n",
      "11                 1.0      0.6        1.00  1.00      0.00         inf  \n"
     ]
    }
   ],
   "source": [
    "rules_by_conf = association_rules(frequent_itemsets, metric=\"confidence\", min_threshold=0.7)\n",
    "print(rules_by_conf)"
   ]
  },
  {
   "cell_type": "markdown",
   "metadata": {},
   "source": [
    "# Example 2 -- Rule Generation and Selection Criteria\n"
   ]
  },
  {
   "cell_type": "code",
   "execution_count": 5,
   "metadata": {},
   "outputs": [
    {
     "name": "stdout",
     "output_type": "stream",
     "text": [
      "             antecedents            consequents  antecedent support  \\\n",
      "0  (Onion, Kidney Beans)                 (Eggs)                 0.6   \n",
      "1   (Eggs, Kidney Beans)                (Onion)                 0.8   \n",
      "2                (Onion)   (Eggs, Kidney Beans)                 0.6   \n",
      "3                 (Eggs)  (Onion, Kidney Beans)                 0.8   \n",
      "4                (Onion)                 (Eggs)                 0.6   \n",
      "5                 (Eggs)                (Onion)                 0.8   \n",
      "\n",
      "   consequent support  support  confidence  lift  leverage  conviction  \n",
      "0                 0.8      0.6        1.00  1.25      0.12         inf  \n",
      "1                 0.6      0.6        0.75  1.25      0.12    1.600000  \n",
      "2                 0.8      0.6        1.00  1.25      0.12         inf  \n",
      "3                 0.6      0.6        0.75  1.25      0.12    1.600000  \n",
      "4                 0.8      0.6        1.00  1.25      0.12         inf  \n",
      "5                 0.6      0.6        0.75  1.25      0.12    1.600000  \n"
     ]
    }
   ],
   "source": [
    "rules_by_lift = association_rules(frequent_itemsets, metric=\"lift\", min_threshold=1.2)\n",
    "print(rules_by_lift)"
   ]
  },
  {
   "cell_type": "markdown",
   "metadata": {},
   "source": [
    "## Filter the results\n",
    "Let's say we are ony interested in rules that satisfy the following criteria:\n",
    "- at least 2 antecedents\n",
    "- a confidence > 0.75\n",
    "- a lift score > 1.2\n",
    "We could compute the antecedent length as follows:"
   ]
  },
  {
   "cell_type": "code",
   "execution_count": 6,
   "metadata": {},
   "outputs": [
    {
     "data": {
      "text/html": [
       "<div>\n",
       "<style scoped>\n",
       "    .dataframe tbody tr th:only-of-type {\n",
       "        vertical-align: middle;\n",
       "    }\n",
       "\n",
       "    .dataframe tbody tr th {\n",
       "        vertical-align: top;\n",
       "    }\n",
       "\n",
       "    .dataframe thead th {\n",
       "        text-align: right;\n",
       "    }\n",
       "</style>\n",
       "<table border=\"1\" class=\"dataframe\">\n",
       "  <thead>\n",
       "    <tr style=\"text-align: right;\">\n",
       "      <th></th>\n",
       "      <th>antecedents</th>\n",
       "      <th>consequents</th>\n",
       "      <th>antecedent support</th>\n",
       "      <th>consequent support</th>\n",
       "      <th>support</th>\n",
       "      <th>confidence</th>\n",
       "      <th>lift</th>\n",
       "      <th>leverage</th>\n",
       "      <th>conviction</th>\n",
       "      <th>antecedent_len</th>\n",
       "    </tr>\n",
       "  </thead>\n",
       "  <tbody>\n",
       "    <tr>\n",
       "      <th>0</th>\n",
       "      <td>(Onion, Kidney Beans)</td>\n",
       "      <td>(Eggs)</td>\n",
       "      <td>0.6</td>\n",
       "      <td>0.8</td>\n",
       "      <td>0.6</td>\n",
       "      <td>1.0</td>\n",
       "      <td>1.25</td>\n",
       "      <td>0.12</td>\n",
       "      <td>inf</td>\n",
       "      <td>2</td>\n",
       "    </tr>\n",
       "  </tbody>\n",
       "</table>\n",
       "</div>"
      ],
      "text/plain": [
       "             antecedents consequents  antecedent support  consequent support  \\\n",
       "0  (Onion, Kidney Beans)      (Eggs)                 0.6                 0.8   \n",
       "\n",
       "   support  confidence  lift  leverage  conviction  antecedent_len  \n",
       "0      0.6         1.0  1.25      0.12         inf               2  "
      ]
     },
     "execution_count": 6,
     "metadata": {},
     "output_type": "execute_result"
    }
   ],
   "source": [
    "rules_by_lift[\"antecedent_len\"] = rules_by_lift[\"antecedents\"].apply(lambda x: len(x))\n",
    "rules_by_lift[ (rules_by_lift['antecedent_len'] >= 2) &\n",
    "               (rules_by_lift['confidence'] > 0.75) &\n",
    "               (rules_by_lift['lift'] > 1.2) ]"
   ]
  },
  {
   "cell_type": "code",
   "execution_count": null,
   "metadata": {},
   "outputs": [],
   "source": []
  }
 ],
 "metadata": {
  "kernelspec": {
   "display_name": "Python 3",
   "language": "python",
   "name": "python3"
  },
  "language_info": {
   "codemirror_mode": {
    "name": "ipython",
    "version": 3
   },
   "file_extension": ".py",
   "mimetype": "text/x-python",
   "name": "python",
   "nbconvert_exporter": "python",
   "pygments_lexer": "ipython3",
   "version": "3.7.3"
  },
  "widgets": {
   "state": {},
   "version": "1.1.2"
  }
 },
 "nbformat": 4,
 "nbformat_minor": 2
}
