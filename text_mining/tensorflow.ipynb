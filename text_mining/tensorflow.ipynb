{
 "cells": [
  {
   "cell_type": "code",
   "execution_count": 1,
   "metadata": {},
   "outputs": [],
   "source": [
    "import torch"
   ]
  },
  {
   "cell_type": "code",
   "execution_count": 3,
   "metadata": {},
   "outputs": [],
   "source": [
    "N,D =3,4\n",
    "x=torch.randn(N,D)\n",
    "y=torch.randn(N,D,requires_grad = True)\n",
    "z=torch.randn(N,D)"
   ]
  },
  {
   "cell_type": "code",
   "execution_count": 4,
   "metadata": {},
   "outputs": [
    {
     "name": "stdout",
     "output_type": "stream",
     "text": [
      "tensor([[ 0.5170, -0.0626,  1.1702, -0.5879],\n",
      "        [-0.6412,  0.5648, -0.3636, -0.5995],\n",
      "        [-0.2405,  0.7979,  0.2228, -2.8198]]) torch.Size([3, 4])\n",
      "tensor([[ 0.9702,  0.4006,  0.3675,  0.3749],\n",
      "        [-0.6122, -0.1299,  0.0881,  0.5482],\n",
      "        [ 0.1811, -0.6976,  1.6061, -0.8710]], requires_grad=True) torch.Size([3, 4])\n",
      "tensor([[ 1.7350,  0.4460, -1.0057,  1.2735],\n",
      "        [ 2.2071,  0.6265,  0.4200,  0.0087],\n",
      "        [-0.4133, -0.4714,  0.1565, -0.8615]]) torch.Size([3, 4])\n"
     ]
    }
   ],
   "source": [
    "print(x,x.shape)\n",
    "print(y,y.shape)\n",
    "print(z,z.shape)"
   ]
  },
  {
   "cell_type": "code",
   "execution_count": 15,
   "metadata": {},
   "outputs": [
    {
     "name": "stdout",
     "output_type": "stream",
     "text": [
      "tensor([[ 0.5016, -0.0251,  0.4300, -0.2204],\n",
      "        [ 0.3926, -0.0733, -0.0320, -0.3287],\n",
      "        [-0.0436, -0.5566,  0.3578,  2.4560]], grad_fn=<MulBackward0>)\n",
      "tensor([[ 2.2366,  0.4209, -0.5757,  1.0531],\n",
      "        [ 2.5997,  0.5532,  0.3879, -0.3199],\n",
      "        [-0.4568, -1.0280,  0.5143,  1.5945]], grad_fn=<AddBackward0>)\n",
      "tensor(13.9593, grad_fn=<SumBackward0>)\n"
     ]
    }
   ],
   "source": [
    "a= torch.mul(x,y)\n",
    "print(a)\n",
    "b=torch.add(a,z)\n",
    "print(b)\n",
    "b2=torch.add(a,b)\n",
    "b3=torch.add(b2,z)\n",
    "c=torch.sum(b3)\n",
    "print(c)"
   ]
  },
  {
   "cell_type": "code",
   "execution_count": 18,
   "metadata": {},
   "outputs": [
    {
     "name": "stdout",
     "output_type": "stream",
     "text": [
      "None\n",
      "tensor([[ 1.0340, -0.1251,  2.3405, -1.1759],\n",
      "        [-1.2825,  1.1296, -0.7273, -1.1991],\n",
      "        [-0.4811,  1.5958,  0.4456, -5.6396]])\n",
      "None\n"
     ]
    }
   ],
   "source": [
    "print(x.grad)\n",
    "print(y.grad)\n",
    "print(z.grad)"
   ]
  },
  {
   "cell_type": "code",
   "execution_count": 17,
   "metadata": {},
   "outputs": [],
   "source": [
    "c.backward()"
   ]
  }
 ],
 "metadata": {
  "kernelspec": {
   "display_name": "Python 3",
   "language": "python",
   "name": "python3"
  },
  "language_info": {
   "codemirror_mode": {
    "name": "ipython",
    "version": 3
   },
   "file_extension": ".py",
   "mimetype": "text/x-python",
   "name": "python",
   "nbconvert_exporter": "python",
   "pygments_lexer": "ipython3",
   "version": "3.7.3"
  },
  "widgets": {
   "state": {},
   "version": "1.1.2"
  }
 },
 "nbformat": 4,
 "nbformat_minor": 2
}
