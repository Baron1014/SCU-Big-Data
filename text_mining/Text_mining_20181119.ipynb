{
 "cells": [
  {
   "cell_type": "code",
   "execution_count": 1,
   "metadata": {},
   "outputs": [
    {
     "name": "stdout",
     "output_type": "stream",
     "text": [
      "[nltk_data] Downloading package wordnet to\n",
      "[nltk_data]     C:\\Users\\1070801\\AppData\\Roaming\\nltk_data...\n",
      "[nltk_data]   Unzipping corpora\\wordnet.zip.\n"
     ]
    }
   ],
   "source": [
    "import nltk\n",
    "nltk.download('wordnet')\n",
    "from nltk.corpus import wordnet"
   ]
  },
  {
   "cell_type": "code",
   "execution_count": 2,
   "metadata": {},
   "outputs": [
    {
     "name": "stdout",
     "output_type": "stream",
     "text": [
      "Synset('motel.n.01')\n"
     ]
    }
   ],
   "source": [
    "for synset in wordnet.synsets('motel'):\n",
    "    print(synset)"
   ]
  },
  {
   "cell_type": "code",
   "execution_count": 3,
   "metadata": {},
   "outputs": [
    {
     "data": {
      "text/plain": [
       "[Synset('motor_hotel.n.01'),\n",
       " Synset('hotel.n.01'),\n",
       " Synset('building.n.01'),\n",
       " Synset('structure.n.01'),\n",
       " Synset('artifact.n.01'),\n",
       " Synset('whole.n.02'),\n",
       " Synset('object.n.01'),\n",
       " Synset('physical_entity.n.01'),\n",
       " Synset('entity.n.01')]"
      ]
     },
     "execution_count": 3,
     "metadata": {},
     "output_type": "execute_result"
    }
   ],
   "source": [
    "motel=wordnet.synset('motel.n.01')\n",
    "hyper=lambda s: s.hypernyms()\n",
    "list(motel.closure(hyper))"
   ]
  },
  {
   "cell_type": "code",
   "execution_count": 25,
   "metadata": {},
   "outputs": [],
   "source": [
    "from gensim.models import Word2Vec"
   ]
  },
  {
   "cell_type": "code",
   "execution_count": 26,
   "metadata": {},
   "outputs": [
    {
     "name": "stdout",
     "output_type": "stream",
     "text": [
      "[-0.0012983   0.05040433  0.04175922  0.08435252 -0.09741212]\n"
     ]
    }
   ],
   "source": [
    "sentences=[[\"東吳\",\"是\",\"一\",\"個\",\"學校\"],[\"台大\",\"也\",\"是\",\"一\",\"個\",\"學校\"]]\n",
    "\n",
    "model=Word2Vec(sentences,size=5,window=5,min_count=1,workers=4,iter=10)\n",
    "\n",
    "model.save(\"word2vec.model\")\n",
    "\n",
    "model=Word2Vec.load(\"word2vec.model\")\n",
    "\n",
    "print(model.wv[\"東吳\"])"
   ]
  },
  {
   "cell_type": "code",
   "execution_count": 27,
   "metadata": {},
   "outputs": [],
   "source": [
    "from gensim.models import FastText"
   ]
  },
  {
   "cell_type": "code",
   "execution_count": 28,
   "metadata": {},
   "outputs": [
    {
     "name": "stdout",
     "output_type": "stream",
     "text": [
      "[-0.13810301  0.05826563 -0.03901397 -0.03242072  0.00132372]\n"
     ]
    }
   ],
   "source": [
    "sentences=[[\"東吳\",\"是\",\"一\",\"個\",\"學校\"],[\"台大\",\"也\",\"是\",\"一\",\"個\",\"學校\"]]\n",
    "\n",
    "model=FastText(sentences,size=5,window=5,min_count=1,workers=4,iter=10)\n",
    "\n",
    "model.save(\"word2vec.model\")\n",
    "\n",
    "model=FastText.load(\"word2vec.model\")\n",
    "\n",
    "print(model.wv[\"東吳\"])"
   ]
  },
  {
   "cell_type": "code",
   "execution_count": 29,
   "metadata": {},
   "outputs": [],
   "source": [
    "from gensim.models.doc2vec import Doc2Vec,TaggedDocument"
   ]
  },
  {
   "cell_type": "code",
   "execution_count": 30,
   "metadata": {},
   "outputs": [
    {
     "name": "stdout",
     "output_type": "stream",
     "text": [
      "[-0.0012983   0.05040433  0.04175922  0.08435252 -0.09741212]\n"
     ]
    },
    {
     "name": "stderr",
     "output_type": "stream",
     "text": [
      "C:\\Users\\1070801\\AppData\\Local\\Continuum\\anaconda3\\lib\\site-packages\\gensim\\models\\doc2vec.py:566: UserWarning: The parameter `iter` is deprecated, will be removed in 4.0.0, use `epochs` instead.\n",
      "  warnings.warn(\"The parameter `iter` is deprecated, will be removed in 4.0.0, use `epochs` instead.\")\n"
     ]
    }
   ],
   "source": [
    "sentences=[[\"東吳\",\"是\",\"一\",\"個\",\"學校\"],[\"台大\",\"也\",\"是\",\"一\",\"個\",\"學校\"]]\n",
    "\n",
    "documents=[TaggedDocument(doc,[i]) for i,doc in enumerate(sentences)]\n",
    "\n",
    "models=Doc2Vec(documents,vector_size=5,window=5,min_count=1,workers=4,iter=10)\n",
    "\n",
    "models.save(\"doc2vec.model\")\n",
    "\n",
    "models=Doc2Vec.load(\"doc2vec.model\")\n",
    "\n",
    "print(models.wv[\"東吳\"])"
   ]
  },
  {
   "cell_type": "code",
   "execution_count": null,
   "metadata": {},
   "outputs": [],
   "source": []
  }
 ],
 "metadata": {
  "kernelspec": {
   "display_name": "Python 3",
   "language": "python",
   "name": "python3"
  },
  "language_info": {
   "codemirror_mode": {
    "name": "ipython",
    "version": 3
   },
   "file_extension": ".py",
   "mimetype": "text/x-python",
   "name": "python",
   "nbconvert_exporter": "python",
   "pygments_lexer": "ipython3",
   "version": "3.7.3"
  },
  "widgets": {
   "state": {},
   "version": "1.1.2"
  }
 },
 "nbformat": 4,
 "nbformat_minor": 2
}
