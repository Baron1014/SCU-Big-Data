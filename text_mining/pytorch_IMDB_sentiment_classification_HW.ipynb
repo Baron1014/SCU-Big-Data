{
 "cells": [
  {
   "cell_type": "code",
   "execution_count": 0,
   "metadata": {
    "colab": {},
    "colab_type": "code",
    "id": "H5TgBNwwquSC"
   },
   "outputs": [],
   "source": [
    "from keras.datasets import imdb\n",
    "from keras.preprocessing import sequence\n",
    "import torch\n",
    "device = torch.device('cuda' if torch.cuda.is_available() else 'cpu')"
   ]
  },
  {
   "cell_type": "code",
   "execution_count": 2,
   "metadata": {
    "colab": {
     "base_uri": "https://localhost:8080/",
     "height": 54
    },
    "colab_type": "code",
    "executionInfo": {
     "elapsed": 36288,
     "status": "ok",
     "timestamp": 1545536871593,
     "user": {
      "displayName": "王士豪",
      "photoUrl": "https://lh6.googleusercontent.com/-33FqZUIIZ3I/AAAAAAAAAAI/AAAAAAAAAC8/2TDhQnI2hLg/s64/photo.jpg",
      "userId": "00842859097626073632"
     },
     "user_tz": -480
    },
    "id": "FQvJY3Y1q9R9",
    "outputId": "f874bada-18e6-45ab-cf88-7791c5a35198"
   },
   "outputs": [
    {
     "name": "stdout",
     "output_type": "stream",
     "text": [
      "tcmalloc: large alloc 1073750016 bytes == 0x57ee0000 @  0x7fc5391be2a4 0x591a07 0x5b5d56 0x502e9a 0x506859 0x502209 0x502f3d 0x506859 0x504c28 0x502540 0x502f3d 0x506859 0x504c28 0x502540 0x502f3d 0x506859 0x504c28 0x502540 0x502f3d 0x507641 0x502209 0x502f3d 0x506859 0x504c28 0x502540 0x502f3d 0x507641 0x504c28 0x502540 0x502f3d 0x507641\n"
     ]
    }
   ],
   "source": [
    "# http://pytorch.org/\n",
    "from os.path import exists\n",
    "from wheel.pep425tags import get_abbr_impl, get_impl_ver, get_abi_tag\n",
    "platform = '{}{}-{}'.format(get_abbr_impl(), get_impl_ver(), get_abi_tag())\n",
    "cuda_output = !ldconfig -p|grep cudart.so|sed -e 's/.*\\.\\([0-9]*\\)\\.\\([0-9]*\\)$/cu\\1\\2/'\n",
    "accelerator = cuda_output[0] if exists('/dev/nvidia0') else 'cpu'\n",
    "\n",
    "!pip install -q http://download.pytorch.org/whl/{accelerator}/torch-0.4.1-{platform}-linux_x86_64.whl torchvision\n",
    "import torch"
   ]
  },
  {
   "cell_type": "code",
   "execution_count": 0,
   "metadata": {
    "colab": {},
    "colab_type": "code",
    "id": "TRjWqJorquSa"
   },
   "outputs": [],
   "source": [
    "vocab_size = 1000\n",
    "# cut texts after this number of words (among top max_features most common words)\n",
    "sentence_max_lenght = 150\n"
   ]
  },
  {
   "cell_type": "code",
   "execution_count": 5,
   "metadata": {
    "colab": {
     "base_uri": "https://localhost:8080/",
     "height": 170
    },
    "colab_type": "code",
    "executionInfo": {
     "elapsed": 14370,
     "status": "ok",
     "timestamp": 1545537008971,
     "user": {
      "displayName": "王士豪",
      "photoUrl": "https://lh6.googleusercontent.com/-33FqZUIIZ3I/AAAAAAAAAAI/AAAAAAAAAC8/2TDhQnI2hLg/s64/photo.jpg",
      "userId": "00842859097626073632"
     },
     "user_tz": -480
    },
    "id": "knccWp5UquSp",
    "outputId": "2086b882-ada6-4aaf-aa10-8e907c961629"
   },
   "outputs": [
    {
     "name": "stdout",
     "output_type": "stream",
     "text": [
      "Loading data...\n",
      "Downloading data from https://s3.amazonaws.com/text-datasets/imdb.npz\n",
      "17465344/17464789 [==============================] - 3s 0us/step\n",
      "25000 train sequences\n",
      "25000 test sequences\n",
      "Pad sequences (samples x time)\n",
      "x_train shape: (25000, 150)\n",
      "x_test shape: (25000, 150)\n",
      "labels of y_train {0, 1}\n"
     ]
    }
   ],
   "source": [
    "print('Loading data...')\n",
    "(x_train, y_train), (x_test, y_test) = imdb.load_data(num_words=vocab_size)\n",
    "\n",
    "                                                             \n",
    "print(len(x_train), 'train sequences')\n",
    "print(len(x_test), 'test sequences')\n",
    "\n",
    "print('Pad sequences (samples x time)')\n",
    "x_train = sequence.pad_sequences(x_train, maxlen=sentence_max_lenght, padding='pre')\n",
    "x_test = sequence.pad_sequences(x_test, maxlen=sentence_max_lenght)\n",
    "print('x_train shape:', x_train.shape)\n",
    "print('x_test shape:', x_test.shape)\n",
    "print('labels of y_train', set(y_train))\n",
    "\n",
    "x_train, y_train = torch.LongTensor(x_train).to(device), torch.FloatTensor(y_train).to(device)\n",
    "x_test, y_test = torch.LongTensor(x_test).to(device), torch.FloatTensor(y_test).to(device)"
   ]
  },
  {
   "cell_type": "code",
   "execution_count": 0,
   "metadata": {
    "colab": {},
    "colab_type": "code",
    "id": "oMuzAESjquS1"
   },
   "outputs": [],
   "source": [
    "class Net4IMDB(torch.nn.Module):\n",
    "    def __init__(self, vocab_size,\n",
    "                 embedding_size,\n",
    "                 hidden_size,\n",
    "                 output_size):\n",
    "        super(Net4IMDB, self).__init__()\n",
    "        # write your model component at here\n",
    "        self.__embeddings = torch.nn.Embedding(vocab_size,embedding_size)\n",
    "        self.__linear1 = torch.nn.Linear(embedding_size,hidden_size)\n",
    "        self.__linear2 = torch.nn.Linear(hidden_size,100)\n",
    "        self.__linear3 = torch.nn.Linear(100,output_size)\n",
    "        \n",
    "    def forward(self, x):\n",
    "        # write model forward at here\n",
    "        emb = self.__embeddings(x).mean(dim=1)\n",
    "        h = self.__linear1(emb).clamp(min = 0)\n",
    "        tan =torch.nn.Tanh()\n",
    "        \n",
    "        a = tan(self.__linear2(h))\n",
    "        y_pred = self.__linear3(a)\n",
    "        return y_pred"
   ]
  },
  {
   "cell_type": "code",
   "execution_count": 12,
   "metadata": {
    "colab": {
     "base_uri": "https://localhost:8080/",
     "height": 156
    },
    "colab_type": "code",
    "executionInfo": {
     "elapsed": 989,
     "status": "ok",
     "timestamp": 1545537505134,
     "user": {
      "displayName": "王士豪",
      "photoUrl": "https://lh6.googleusercontent.com/-33FqZUIIZ3I/AAAAAAAAAAI/AAAAAAAAAC8/2TDhQnI2hLg/s64/photo.jpg",
      "userId": "00842859097626073632"
     },
     "user_tz": -480
    },
    "id": "QYF0zX2ZquS9",
    "outputId": "3d8286a4-1ceb-4c99-aa37-9a67d66f6202"
   },
   "outputs": [
    {
     "name": "stdout",
     "output_type": "stream",
     "text": [
      "Build model\n",
      "Net4IMDB(\n",
      "  (_Net4IMDB__embeddings): Embedding(1000, 200)\n",
      "  (_Net4IMDB__linear1): Linear(in_features=200, out_features=200, bias=True)\n",
      "  (_Net4IMDB__linear2): Linear(in_features=200, out_features=100, bias=True)\n",
      "  (_Net4IMDB__linear3): Linear(in_features=100, out_features=1, bias=True)\n",
      ")\n"
     ]
    }
   ],
   "source": [
    "embedding_size = 200\n",
    "hidden_size = 200\n",
    "output_size = 1\n",
    "print('Build model')\n",
    "model = Net4IMDB(vocab_size, \n",
    "                            embedding_size, \n",
    "                            hidden_size, \n",
    "                            output_size).to(device)\n",
    "print(model)\n",
    "criterion = torch.nn.BCEWithLogitsLoss()\n",
    "optimizer = torch.optim.SGD(model.parameters(), \n",
    "                            lr=1e-1)"
   ]
  },
  {
   "cell_type": "code",
   "execution_count": 0,
   "metadata": {
    "colab": {},
    "colab_type": "code",
    "id": "G0RL7161quTF"
   },
   "outputs": [],
   "source": [
    "def binary_accuracy(preds, y):\n",
    "    #round predictions to the closest integer\n",
    "    rounded_preds = torch.round(torch.sigmoid(preds))\n",
    "    correct = (rounded_preds == y).float() #convert into float for division \n",
    "    acc = correct.sum()/len(correct)\n",
    "    return acc"
   ]
  },
  {
   "cell_type": "code",
   "execution_count": 16,
   "metadata": {
    "colab": {
     "base_uri": "https://localhost:8080/",
     "height": 17
    },
    "colab_type": "code",
    "executionInfo": {
     "elapsed": 317137,
     "status": "ok",
     "timestamp": 1545538039770,
     "user": {
      "displayName": "王士豪",
      "photoUrl": "https://lh6.googleusercontent.com/-33FqZUIIZ3I/AAAAAAAAAAI/AAAAAAAAAC8/2TDhQnI2hLg/s64/photo.jpg",
      "userId": "00842859097626073632"
     },
     "user_tz": -480
    },
    "id": "eeuJerlCquTN",
    "outputId": "0006616c-d4d3-4165-9a93-af8bf9ccc7df"
   },
   "outputs": [
    {
     "name": "stdout",
     "output_type": "stream",
     "text": []
    }
   ],
   "source": [
    "epochs = 200\n",
    "batch_size = 2000\n",
    "x_train_batch = torch.split(x_train, batch_size, dim=0)\n",
    "y_train_batch = torch.split(y_train, batch_size, dim=0)\n",
    "for epoch in range(epochs):\n",
    "    for i,(x,y) in enumerate(zip(x_train_batch, y_train_batch)):\n",
    "        y_pred = model.forward(x).squeeze(1)\n",
    "        loss = criterion(y_pred, y)\n",
    "        accuracy = binary_accuracy(y_pred, y)\n",
    "        print('epoch %d | step %d | loss %.4f | accuacy %.2f'%(epoch, i, loss.item(), accuracy.item()), end='\\r')\n",
    "\n",
    "        optimizer.zero_grad()\n",
    "        loss.backward()\n",
    "        optimizer.step()"
   ]
  },
  {
   "cell_type": "code",
   "execution_count": 17,
   "metadata": {
    "colab": {
     "base_uri": "https://localhost:8080/",
     "height": 34
    },
    "colab_type": "code",
    "executionInfo": {
     "elapsed": 935,
     "status": "ok",
     "timestamp": 1545538050009,
     "user": {
      "displayName": "王士豪",
      "photoUrl": "https://lh6.googleusercontent.com/-33FqZUIIZ3I/AAAAAAAAAAI/AAAAAAAAAC8/2TDhQnI2hLg/s64/photo.jpg",
      "userId": "00842859097626073632"
     },
     "user_tz": -480
    },
    "id": "J-gOCo_DquTX",
    "outputId": "b4dce657-3764-40be-a46e-0aa338b7f2b3"
   },
   "outputs": [
    {
     "name": "stdout",
     "output_type": "stream",
     "text": [
      "accuracy on test: 0.7530\n"
     ]
    }
   ],
   "source": [
    "with torch.no_grad():\n",
    "    y_pred = model.forward(x_test).squeeze(1)\n",
    "    binary_accuracy(y_pred, y_test)\n",
    "    print('accuracy on test: %.4f'%(accuracy))"
   ]
  },
  {
   "cell_type": "code",
   "execution_count": 0,
   "metadata": {
    "colab": {},
    "colab_type": "code",
    "id": "TXk694qjquTm"
   },
   "outputs": [],
   "source": []
  },
  {
   "cell_type": "code",
   "execution_count": 0,
   "metadata": {
    "colab": {},
    "colab_type": "code",
    "id": "wK9h0nZvquTt"
   },
   "outputs": [],
   "source": []
  }
 ],
 "metadata": {
  "accelerator": "GPU",
  "colab": {
   "name": "pytorch_IMDB_sentiment_classification_HW.ipynb",
   "provenance": [],
   "version": "0.3.2"
  },
  "kernelspec": {
   "display_name": "Python 3",
   "language": "python",
   "name": "python3"
  },
  "language_info": {
   "codemirror_mode": {
    "name": "ipython",
    "version": 3
   },
   "file_extension": ".py",
   "mimetype": "text/x-python",
   "name": "python",
   "nbconvert_exporter": "python",
   "pygments_lexer": "ipython3",
   "version": "3.7.3"
  }
 },
 "nbformat": 4,
 "nbformat_minor": 1
}
