{
 "cells": [
  {
   "cell_type": "code",
   "execution_count": 3,
   "metadata": {},
   "outputs": [],
   "source": [
    "import nltk\n",
    "from nltk.corpus import wordnet\n",
    "from gensim.models import Word2Vec\n",
    "from gensim.models.doc2vec import Doc2Vec,TaggedDocument\n",
    "from gensim.models import FastText\n",
    "import jieba"
   ]
  },
  {
   "cell_type": "code",
   "execution_count": 4,
   "metadata": {},
   "outputs": [],
   "source": [
    "sentence=open('demo/PPT-movie-7200-7275.txt','r',encoding='utf-8').read()\n",
    "\n",
    "s=list(jieba.cut(sentence))"
   ]
  },
  {
   "cell_type": "code",
   "execution_count": 5,
   "metadata": {},
   "outputs": [
    {
     "name": "stdout",
     "output_type": "stream",
     "text": [
      "['[', ' ', '普好雷', ' ', ']']\n"
     ]
    }
   ],
   "source": [
    "a=list()\n",
    "a.append(s)\n",
    "print(a[0][:5])"
   ]
  },
  {
   "cell_type": "code",
   "execution_count": 28,
   "metadata": {},
   "outputs": [],
   "source": [
    "models=Word2Vec(a,size=50,window=5,min_count=5,workers=4,iter=100)\n",
    "\n",
    "models.save(\"word2vec.model\")\n",
    "\n",
    "models=Word2Vec.load(\"word2vec.model\")"
   ]
  },
  {
   "cell_type": "code",
   "execution_count": 7,
   "metadata": {},
   "outputs": [
    {
     "name": "stdout",
     "output_type": "stream",
     "text": [
      "劇情在word2中vector \n",
      "********************\n",
      "[-1.2425244  -1.5959674   2.4227967   0.43568757 -0.40724358 -0.71424884\n",
      "  0.80943835  1.3042165  -0.18591796 -0.22910921  0.76874757 -0.88431984\n",
      "  1.7612988   0.23702733  1.0606645   0.251806    0.34240577  0.78156877\n",
      "  0.68594086  1.2653145  -1.6973839  -0.94489354 -0.808203   -0.13658436\n",
      "  0.29223138  1.9239012   1.2769585   0.50555533 -1.8761752   0.5719294\n",
      " -1.5144526  -0.04509256 -0.74905926 -0.07169814  0.24464548  0.22776969\n",
      "  1.5273689   1.2249143  -0.46032208 -0.40938956  2.0272834  -0.9690342\n",
      " -1.027485   -0.08105253 -0.49240372 -0.35965377  1.5199683   1.0929812\n",
      "  1.3464873   0.41647005]\n",
      "****************************************************\n",
      "電影在word2中vector \n",
      "********************\n",
      "[-1.2484950e-02 -2.6923704e+00  3.0021720e+00 -2.6765368e+00\n",
      "  1.0474422e+00 -2.4991539e+00  2.0091839e+00  1.9987946e+00\n",
      " -7.8478701e-02 -5.5188417e-01  1.6483213e-01 -2.0392821e+00\n",
      "  9.8680693e-01 -7.1196812e-01  3.7714598e+00 -6.8150067e-01\n",
      "  2.0251625e+00  1.6955017e-01  3.1549329e-01  6.1709446e-01\n",
      " -3.1407862e+00 -2.8213074e+00 -1.1259071e+00  5.3879106e-01\n",
      "  2.4674878e+00  3.4227169e+00  1.3780766e+00 -1.9562918e+00\n",
      "  1.5391384e-01  8.9148474e-01  7.7691638e-01 -6.7431974e-01\n",
      " -1.8514340e+00 -2.0011313e+00  3.8295740e-01 -9.6898681e-01\n",
      "  1.6829377e+00  8.1030285e-01  8.5174513e-01 -3.6518878e-01\n",
      "  2.8088635e-01  2.5880182e-01 -2.5968692e-01  5.5241299e-01\n",
      "  6.3775325e-01 -7.2008767e-04  3.1351047e+00  5.3696603e-01\n",
      "  3.0661480e+00 -2.6419297e-01]\n",
      "****************************************************\n",
      "導演在word2中vector\n",
      "********************\n",
      "[-0.18666714 -0.42335483  0.7370135  -0.18637769  0.17553523 -0.4902881\n",
      "  0.6791562   0.4500613  -0.29391122  0.0602507  -0.03118705 -0.5345886\n",
      "  0.15569638 -0.1569821   0.34232035 -0.09311868  0.13888462  0.19553924\n",
      "  0.48484236  0.4539389  -0.99127674 -0.14843476 -0.7518812  -0.25088912\n",
      "  0.13427716  0.75044     0.61279196 -0.3545948  -0.14718176  0.15758446\n",
      "  0.04639362 -0.14409027 -0.698999   -0.23455739  0.0405804  -0.33287564\n",
      "  0.3928269   0.6788476   0.02721965  0.23581718  0.6395757  -0.19315736\n",
      " -0.12313414 -0.2619051  -0.15532771  0.25159335  0.26921746 -0.02014208\n",
      "  0.27554548 -0.5810763 ]\n",
      "****************************************************\n"
     ]
    }
   ],
   "source": [
    "print(\"劇情在word2中vector \")\n",
    "print(\"********************\")\n",
    "print(models.wv[\"劇情\"])\n",
    "print(\"****************************************************\")\n",
    "print(\"電影在word2中vector \")\n",
    "print(\"********************\")      \n",
    "print(models.wv[\"電影\"])\n",
    "print(\"****************************************************\")\n",
    "print(\"導演在word2中vector\")\n",
    "print(\"********************\")\n",
    "print(models.wv[\"導演\"])\n",
    "print(\"****************************************************\")"
   ]
  },
  {
   "cell_type": "code",
   "execution_count": 26,
   "metadata": {},
   "outputs": [],
   "source": [
    "def w2v_most_similar(w2v_model, words, topn=5):\n",
    "    import pandas as pd\n",
    "    similar_df = pd.DataFrame()\n",
    "    for word in words:\n",
    "        try:\n",
    "            similar_words = pd.DataFrame(w2v_model.wv.most_similar(word, topn=topn), columns=[word, 'cos'])\n",
    "            similar_df = pd.concat([similar_df, similar_words], axis=1)\n",
    "        except:\n",
    "            print(word, \"not found in Word2Vec model!\")\n",
    "    return similar_df\n",
    "\n"
   ]
  },
  {
   "cell_type": "code",
   "execution_count": 29,
   "metadata": {},
   "outputs": [
    {
     "name": "stderr",
     "output_type": "stream",
     "text": [
      "C:\\Users\\1070801\\AppData\\Local\\Continuum\\anaconda3\\lib\\site-packages\\gensim\\matutils.py:737: FutureWarning: Conversion of the second argument of issubdtype from `int` to `np.signedinteger` is deprecated. In future, it will be treated as `np.int32 == np.dtype(int).type`.\n",
      "  if np.issubdtype(vec.dtype, np.int):\n"
     ]
    },
    {
     "data": {
      "text/html": [
       "<div>\n",
       "<style scoped>\n",
       "    .dataframe tbody tr th:only-of-type {\n",
       "        vertical-align: middle;\n",
       "    }\n",
       "\n",
       "    .dataframe tbody tr th {\n",
       "        vertical-align: top;\n",
       "    }\n",
       "\n",
       "    .dataframe thead th {\n",
       "        text-align: right;\n",
       "    }\n",
       "</style>\n",
       "<table border=\"1\" class=\"dataframe\">\n",
       "  <thead>\n",
       "    <tr style=\"text-align: right;\">\n",
       "      <th></th>\n",
       "      <th>電影</th>\n",
       "      <th>cos</th>\n",
       "      <th>劇情</th>\n",
       "      <th>cos</th>\n",
       "      <th>導演</th>\n",
       "      <th>cos</th>\n",
       "    </tr>\n",
       "  </thead>\n",
       "  <tbody>\n",
       "    <tr>\n",
       "      <th>0</th>\n",
       "      <td>事情</td>\n",
       "      <td>0.840306</td>\n",
       "      <td>或</td>\n",
       "      <td>0.964524</td>\n",
       "      <td>或許</td>\n",
       "      <td>0.938120</td>\n",
       "    </tr>\n",
       "    <tr>\n",
       "      <th>1</th>\n",
       "      <td>演技</td>\n",
       "      <td>0.836115</td>\n",
       "      <td>畫面</td>\n",
       "      <td>0.939301</td>\n",
       "      <td>主線</td>\n",
       "      <td>0.909173</td>\n",
       "    </tr>\n",
       "    <tr>\n",
       "      <th>2</th>\n",
       "      <td>認為</td>\n",
       "      <td>0.830048</td>\n",
       "      <td>大錯</td>\n",
       "      <td>0.935954</td>\n",
       "      <td>組織</td>\n",
       "      <td>0.908649</td>\n",
       "    </tr>\n",
       "    <tr>\n",
       "      <th>3</th>\n",
       "      <td>自己</td>\n",
       "      <td>0.829541</td>\n",
       "      <td>畫</td>\n",
       "      <td>0.935938</td>\n",
       "      <td>這也</td>\n",
       "      <td>0.900969</td>\n",
       "    </tr>\n",
       "    <tr>\n",
       "      <th>4</th>\n",
       "      <td>在</td>\n",
       "      <td>0.829416</td>\n",
       "      <td>出</td>\n",
       "      <td>0.934116</td>\n",
       "      <td>路上</td>\n",
       "      <td>0.899887</td>\n",
       "    </tr>\n",
       "  </tbody>\n",
       "</table>\n",
       "</div>"
      ],
      "text/plain": [
       "   電影       cos  劇情       cos  導演       cos\n",
       "0  事情  0.840306   或  0.964524  或許  0.938120\n",
       "1  演技  0.836115  畫面  0.939301  主線  0.909173\n",
       "2  認為  0.830048  大錯  0.935954  組織  0.908649\n",
       "3  自己  0.829541   畫  0.935938  這也  0.900969\n",
       "4   在  0.829416   出  0.934116  路上  0.899887"
      ]
     },
     "execution_count": 29,
     "metadata": {},
     "output_type": "execute_result"
    }
   ],
   "source": [
    "w2v_most_similar(models,[\"電影\",\"劇情\",\"導演\"])"
   ]
  },
  {
   "cell_type": "code",
   "execution_count": 22,
   "metadata": {},
   "outputs": [],
   "source": [
    "models=(a,size=50,window=5,min_count=5,workers=4,iter=100)\n",
    "\n",
    "models.save(\"fasttext.model\")\n",
    "\n",
    "models=FastText.load(\"fasttext.model\")"
   ]
  },
  {
   "cell_type": "code",
   "execution_count": 9,
   "metadata": {},
   "outputs": [
    {
     "name": "stdout",
     "output_type": "stream",
     "text": [
      "劇情在fasttext中vector \n",
      "********************\n",
      "[-0.649276    0.17538117 -0.45063215 -1.1041144   0.06187603  0.19092667\n",
      " -2.2044525  -0.16584511 -0.22725801  0.6096362  -1.3992685   0.7297304\n",
      " -0.5371484  -0.87486386 -1.1947302  -1.5199916   0.09808351 -1.8958267\n",
      " -1.1310496  -0.3288133  -1.2303001   0.9468469  -0.9662996   0.9970771\n",
      "  1.1290786   0.05270469 -0.59633815 -0.8687041  -0.22674865  1.9009173\n",
      "  0.02440853 -0.83447754  0.25586098 -0.43027493  1.2990267  -0.9252892\n",
      "  0.4280693  -0.470729   -2.168129    1.7808106  -0.16572641  1.7602621\n",
      " -1.4399471   0.4070656   0.18586329  0.11519933  0.29444456 -0.9417331\n",
      "  0.12034094 -0.18507832]\n",
      "****************************************************\n",
      "電影在fasttext中vector \n",
      "********************\n",
      "[-1.3438863  -1.8699232  -0.17076038 -2.5155118  -0.70401907  1.7359179\n",
      " -3.569743    1.5212595  -2.687282    1.5326024  -1.8006257   0.63659936\n",
      " -0.5081245  -0.2004384  -1.5868757  -1.8856418   0.48052165  0.05044972\n",
      " -2.304433   -1.2357203  -0.81813306  0.93433374 -2.3509398  -1.3246255\n",
      "  3.0342808   0.5692251  -4.180949   -0.97159034 -1.9419295   1.858708\n",
      " -1.4988574  -1.2541361   0.17028658  0.67581236  2.116742   -1.1727664\n",
      "  0.10571811  0.3130898  -2.745696    1.3293463  -0.48289987  2.0188186\n",
      " -3.2170231   2.592177    0.6151304  -0.8471375   1.8299266  -2.4417253\n",
      "  0.06671727 -2.7555807 ]\n",
      "****************************************************\n",
      "導演在fasttext中vector\n",
      "********************\n",
      "[-0.33473766  0.3889919  -0.27892178 -0.3716635  -0.5379037   0.4278662\n",
      " -0.9630663   0.29505634  0.21022196  0.09315271 -0.5258681   0.10570285\n",
      " -0.49176604 -0.39006683 -0.75020766 -0.42474782 -0.2251624  -0.6644256\n",
      " -0.66830426  0.19464275 -0.3349887   0.3327101  -0.26360446  0.1568105\n",
      "  0.31939486 -0.13426812 -0.74395925 -0.7925882   0.03005363  0.54202646\n",
      " -0.04220471 -0.16023552  0.4008     -0.17081085  0.3456113  -0.5793438\n",
      "  0.3983457  -0.13344681 -0.82817817  0.87967604  0.06689391  0.7658302\n",
      " -0.63740706  0.94496894  0.32270885 -0.13979053  0.61652946 -0.3178813\n",
      "  0.3436752  -0.09423494]\n",
      "****************************************************\n"
     ]
    }
   ],
   "source": [
    "print(\"劇情在fasttext中vector \")\n",
    "print(\"********************\")\n",
    "print(models.wv[\"劇情\"])\n",
    "print(\"****************************************************\")\n",
    "print(\"電影在fasttext中vector \")\n",
    "print(\"********************\")      \n",
    "print(models.wv[\"電影\"])\n",
    "print(\"****************************************************\")\n",
    "print(\"導演在fasttext中vector\")\n",
    "print(\"********************\")\n",
    "print(models.wv[\"導演\"])\n",
    "print(\"****************************************************\")"
   ]
  },
  {
   "cell_type": "code",
   "execution_count": 24,
   "metadata": {},
   "outputs": [],
   "source": [
    "def FastText_most_similar(FastText_model, words, topn=5):\n",
    "    import pandas as pd\n",
    "    similar_df = pd.DataFrame()\n",
    "    for word in words:\n",
    "        try:\n",
    "            similar_words = pd.DataFrame(FastText_model.wv.most_similar(word, topn=topn), columns=[word, 'cos'])\n",
    "            similar_df = pd.concat([similar_df, similar_words], axis=1)\n",
    "        except:\n",
    "            print(word, \"not found in Word2Vec model!\")\n",
    "    return similar_df\n"
   ]
  },
  {
   "cell_type": "code",
   "execution_count": 25,
   "metadata": {},
   "outputs": [
    {
     "name": "stderr",
     "output_type": "stream",
     "text": [
      "C:\\Users\\1070801\\AppData\\Local\\Continuum\\anaconda3\\lib\\site-packages\\gensim\\matutils.py:737: FutureWarning: Conversion of the second argument of issubdtype from `int` to `np.signedinteger` is deprecated. In future, it will be treated as `np.int32 == np.dtype(int).type`.\n",
      "  if np.issubdtype(vec.dtype, np.int):\n"
     ]
    },
    {
     "data": {
      "text/html": [
       "<div>\n",
       "<style scoped>\n",
       "    .dataframe tbody tr th:only-of-type {\n",
       "        vertical-align: middle;\n",
       "    }\n",
       "\n",
       "    .dataframe tbody tr th {\n",
       "        vertical-align: top;\n",
       "    }\n",
       "\n",
       "    .dataframe thead th {\n",
       "        text-align: right;\n",
       "    }\n",
       "</style>\n",
       "<table border=\"1\" class=\"dataframe\">\n",
       "  <thead>\n",
       "    <tr style=\"text-align: right;\">\n",
       "      <th></th>\n",
       "      <th>電影</th>\n",
       "      <th>cos</th>\n",
       "      <th>劇情</th>\n",
       "      <th>cos</th>\n",
       "      <th>導演</th>\n",
       "      <th>cos</th>\n",
       "    </tr>\n",
       "  </thead>\n",
       "  <tbody>\n",
       "    <tr>\n",
       "      <th>0</th>\n",
       "      <td>國產電影</td>\n",
       "      <td>0.995251</td>\n",
       "      <td>劇情片</td>\n",
       "      <td>0.995746</td>\n",
       "      <td>導演獎</td>\n",
       "      <td>0.997960</td>\n",
       "    </tr>\n",
       "    <tr>\n",
       "      <th>1</th>\n",
       "      <td>老電影</td>\n",
       "      <td>0.995155</td>\n",
       "      <td>講述</td>\n",
       "      <td>0.935205</td>\n",
       "      <td>或許</td>\n",
       "      <td>0.951315</td>\n",
       "    </tr>\n",
       "    <tr>\n",
       "      <th>2</th>\n",
       "      <td>電影史</td>\n",
       "      <td>0.984192</td>\n",
       "      <td>連</td>\n",
       "      <td>0.932903</td>\n",
       "      <td>原本</td>\n",
       "      <td>0.932255</td>\n",
       "    </tr>\n",
       "    <tr>\n",
       "      <th>3</th>\n",
       "      <td>電影界</td>\n",
       "      <td>0.983874</td>\n",
       "      <td>時</td>\n",
       "      <td>0.931994</td>\n",
       "      <td>類似</td>\n",
       "      <td>0.930970</td>\n",
       "    </tr>\n",
       "    <tr>\n",
       "      <th>4</th>\n",
       "      <td>拍電影</td>\n",
       "      <td>0.827236</td>\n",
       "      <td>乾淨</td>\n",
       "      <td>0.929511</td>\n",
       "      <td>敘事</td>\n",
       "      <td>0.916545</td>\n",
       "    </tr>\n",
       "  </tbody>\n",
       "</table>\n",
       "</div>"
      ],
      "text/plain": [
       "     電影       cos   劇情       cos   導演       cos\n",
       "0  國產電影  0.995251  劇情片  0.995746  導演獎  0.997960\n",
       "1   老電影  0.995155   講述  0.935205   或許  0.951315\n",
       "2   電影史  0.984192    連  0.932903   原本  0.932255\n",
       "3   電影界  0.983874    時  0.931994   類似  0.930970\n",
       "4   拍電影  0.827236   乾淨  0.929511   敘事  0.916545"
      ]
     },
     "execution_count": 25,
     "metadata": {},
     "output_type": "execute_result"
    }
   ],
   "source": [
    "FastText_most_similar(models,[\"電影\",\"劇情\",\"導演\"])"
   ]
  },
  {
   "cell_type": "code",
   "execution_count": 30,
   "metadata": {},
   "outputs": [
    {
     "name": "stderr",
     "output_type": "stream",
     "text": [
      "C:\\Users\\1070801\\AppData\\Local\\Continuum\\anaconda3\\lib\\site-packages\\gensim\\models\\doc2vec.py:566: UserWarning: The parameter `iter` is deprecated, will be removed in 4.0.0, use `epochs` instead.\n",
      "  warnings.warn(\"The parameter `iter` is deprecated, will be removed in 4.0.0, use `epochs` instead.\")\n",
      "C:\\Users\\1070801\\AppData\\Local\\Continuum\\anaconda3\\lib\\site-packages\\gensim\\models\\doc2vec.py:570: UserWarning: The parameter `size` is deprecated, will be removed in 4.0.0, use `vector_size` instead.\n",
      "  warnings.warn(\"The parameter `size` is deprecated, will be removed in 4.0.0, use `vector_size` instead.\")\n"
     ]
    }
   ],
   "source": [
    "documents=[TaggedDocument(doc,[i]) for i,doc in enumerate(a)]\n",
    "\n",
    "models=Doc2Vec(documents,size=50,window=5,min_count=5,workers=4,iter=100)\n",
    "\n",
    "models.save(\"doc2vec.model\")\n",
    "\n",
    "models=Doc2Vec.load(\"doc2vec.model\")"
   ]
  },
  {
   "cell_type": "code",
   "execution_count": 11,
   "metadata": {},
   "outputs": [
    {
     "name": "stdout",
     "output_type": "stream",
     "text": [
      "劇情在doc2vec中vector \n",
      "********************\n",
      "[-0.5121705  -1.536069    0.43312085 -0.52801853 -0.6549083   0.30114123\n",
      "  0.14672202  0.77669114 -0.7192364  -0.39360312  0.22618571  0.49249163\n",
      " -0.02335834 -0.04151774 -0.3757345   0.37086165  0.12397282  0.42209795\n",
      " -0.08580542  1.0450453  -0.52703667  0.83793426 -0.42031452  0.6187237\n",
      " -0.4091337   1.03433     0.74621713 -0.13686885 -0.24986283  0.05456403\n",
      " -1.0307952  -0.3215523   0.27798852  0.15810114 -0.7085796   0.01322068\n",
      "  0.51981467  1.1248316  -0.31996778  0.07645997  0.03382745  0.26177257\n",
      " -1.2617111  -0.01769818 -0.6866984  -0.05409996 -0.33021426  0.22215997\n",
      " -0.26393458  0.08583593]\n",
      "****************************************************\n",
      "電影在doc2vec中vector \n",
      "********************\n",
      "[ 0.8635665  -2.821017    2.211604   -1.4408181  -0.45871317 -0.10189252\n",
      " -0.02229361  1.9246079  -0.75200325 -0.5502714   0.73331916 -0.01985568\n",
      "  1.232554    0.03623864  1.1990182  -0.15749127  0.8142764   0.8227064\n",
      " -0.36383966  0.9125603  -1.3323853  -0.7040858  -0.4183      0.776737\n",
      "  0.20953107  2.6485434   1.0764141  -1.4358336  -0.50766987  0.5039979\n",
      " -1.0750461   0.10837666  0.52343863  0.35840708 -1.1833969  -0.19082838\n",
      "  1.0117942   1.2049632  -0.3507595  -1.0110421   0.2396364   0.2697136\n",
      " -1.8467611  -0.0334672  -1.505635   -0.7370488   0.33518687 -0.2652468\n",
      "  0.1507543   0.34552538]\n",
      "****************************************************\n",
      "導演在doc2vec中vector\n",
      "********************\n",
      "[ 0.02848366 -0.21884689  0.4192731  -0.40933058  0.04728277 -0.25532663\n",
      "  0.35409644  0.25750977 -0.09420291  0.04882909 -0.02769132 -0.12618059\n",
      " -0.15941209 -0.13808487 -0.13671078 -0.03736633  0.02431137 -0.1577701\n",
      "  0.22180942  0.44522578 -0.57176304  0.2018671  -0.45167625 -0.1532655\n",
      " -0.07558366  0.3510766   0.38792285 -0.2920812  -0.00187529 -0.03869671\n",
      "  0.16640526  0.0849069  -0.3665732   0.18236613  0.05917646 -0.41170633\n",
      " -0.09812469  0.49935234 -0.03556816  0.10766099  0.4627705  -0.08339071\n",
      " -0.20724782 -0.28287008  0.06248885  0.27244714 -0.15331508 -0.25754082\n",
      " -0.09284686 -0.2938314 ]\n",
      "****************************************************\n"
     ]
    }
   ],
   "source": [
    "print(\"劇情在doc2vec中vector \")\n",
    "print(\"********************\")\n",
    "print(models.wv[\"劇情\"])\n",
    "print(\"****************************************************\")\n",
    "print(\"電影在doc2vec中vector \")\n",
    "print(\"********************\")      \n",
    "print(models.wv[\"電影\"])\n",
    "print(\"****************************************************\")\n",
    "print(\"導演在doc2vec中vector\")\n",
    "print(\"********************\")\n",
    "print(models.wv[\"導演\"])\n",
    "print(\"****************************************************\")"
   ]
  },
  {
   "cell_type": "code",
   "execution_count": 31,
   "metadata": {},
   "outputs": [],
   "source": [
    "def doc2vec_most_similar(doc2vec_model, words, topn=5):\n",
    "    import pandas as pd\n",
    "    similar_df = pd.DataFrame()\n",
    "    for word in words:\n",
    "        try:\n",
    "            similar_words = pd.DataFrame(doc2vec_model.wv.most_similar(word, topn=topn), columns=[word, 'cos'])\n",
    "            similar_df = pd.concat([similar_df, similar_words], axis=1)\n",
    "        except:\n",
    "            print(word, \"not found in Word2Vec model!\")\n",
    "    return similar_df\n"
   ]
  },
  {
   "cell_type": "code",
   "execution_count": 32,
   "metadata": {},
   "outputs": [
    {
     "name": "stderr",
     "output_type": "stream",
     "text": [
      "C:\\Users\\1070801\\AppData\\Local\\Continuum\\anaconda3\\lib\\site-packages\\gensim\\matutils.py:737: FutureWarning: Conversion of the second argument of issubdtype from `int` to `np.signedinteger` is deprecated. In future, it will be treated as `np.int32 == np.dtype(int).type`.\n",
      "  if np.issubdtype(vec.dtype, np.int):\n"
     ]
    },
    {
     "data": {
      "text/html": [
       "<div>\n",
       "<style scoped>\n",
       "    .dataframe tbody tr th:only-of-type {\n",
       "        vertical-align: middle;\n",
       "    }\n",
       "\n",
       "    .dataframe tbody tr th {\n",
       "        vertical-align: top;\n",
       "    }\n",
       "\n",
       "    .dataframe thead th {\n",
       "        text-align: right;\n",
       "    }\n",
       "</style>\n",
       "<table border=\"1\" class=\"dataframe\">\n",
       "  <thead>\n",
       "    <tr style=\"text-align: right;\">\n",
       "      <th></th>\n",
       "      <th>電影</th>\n",
       "      <th>cos</th>\n",
       "      <th>劇情</th>\n",
       "      <th>cos</th>\n",
       "      <th>導演</th>\n",
       "      <th>cos</th>\n",
       "    </tr>\n",
       "  </thead>\n",
       "  <tbody>\n",
       "    <tr>\n",
       "      <th>0</th>\n",
       "      <td>維護</td>\n",
       "      <td>0.866532</td>\n",
       "      <td>深陷</td>\n",
       "      <td>0.933063</td>\n",
       "      <td>觀眾</td>\n",
       "      <td>0.859228</td>\n",
       "    </tr>\n",
       "    <tr>\n",
       "      <th>1</th>\n",
       "      <td>注意</td>\n",
       "      <td>0.862076</td>\n",
       "      <td>擔當</td>\n",
       "      <td>0.928377</td>\n",
       "      <td>常常</td>\n",
       "      <td>0.848406</td>\n",
       "    </tr>\n",
       "    <tr>\n",
       "      <th>2</th>\n",
       "      <td>規範</td>\n",
       "      <td>0.861005</td>\n",
       "      <td>表演</td>\n",
       "      <td>0.924169</td>\n",
       "      <td>秉持</td>\n",
       "      <td>0.846078</td>\n",
       "    </tr>\n",
       "    <tr>\n",
       "      <th>3</th>\n",
       "      <td>問了</td>\n",
       "      <td>0.855459</td>\n",
       "      <td>盤算</td>\n",
       "      <td>0.921058</td>\n",
       "      <td>這也</td>\n",
       "      <td>0.825354</td>\n",
       "    </tr>\n",
       "    <tr>\n",
       "      <th>4</th>\n",
       "      <td>自終</td>\n",
       "      <td>0.839759</td>\n",
       "      <td>真心</td>\n",
       "      <td>0.918178</td>\n",
       "      <td>現在</td>\n",
       "      <td>0.824438</td>\n",
       "    </tr>\n",
       "  </tbody>\n",
       "</table>\n",
       "</div>"
      ],
      "text/plain": [
       "   電影       cos  劇情       cos  導演       cos\n",
       "0  維護  0.866532  深陷  0.933063  觀眾  0.859228\n",
       "1  注意  0.862076  擔當  0.928377  常常  0.848406\n",
       "2  規範  0.861005  表演  0.924169  秉持  0.846078\n",
       "3  問了  0.855459  盤算  0.921058  這也  0.825354\n",
       "4  自終  0.839759  真心  0.918178  現在  0.824438"
      ]
     },
     "execution_count": 32,
     "metadata": {},
     "output_type": "execute_result"
    }
   ],
   "source": [
    "doc2vec_most_similar(models,[\"電影\",\"劇情\",\"導演\"])"
   ]
  },
  {
   "cell_type": "code",
   "execution_count": 45,
   "metadata": {},
   "outputs": [],
   "source": [
    "models=Doc2Vec.load(\"doc2vec.model\")"
   ]
  },
  {
   "cell_type": "code",
   "execution_count": 46,
   "metadata": {},
   "outputs": [
    {
     "name": "stdout",
     "output_type": "stream",
     "text": [
      "[ 0.20365693 -0.31940642  0.4254084   0.0246585   0.20746091 -0.00780499\n",
      " -0.90628755  0.4732525  -0.0284076  -0.50356454  1.0975199   0.1835221\n",
      "  0.51598203 -0.0511191  -0.06297933 -0.2512062   0.11448987 -0.4291763\n",
      " -0.19393268  0.3537858   0.18713821  1.0361212  -0.25014767 -0.11702422\n",
      " -0.03888238  0.28974342  0.45370093 -0.10323901  0.16554847  0.04749103\n",
      " -0.4668695   0.7946331   0.04816637  0.33030444  0.02473835 -0.3104467\n",
      "  0.28989476  0.632381   -0.44609648 -0.60734713  0.03704871  0.42963687\n",
      "  0.2843227  -0.34631678 -0.08134616 -0.12118057 -0.44915736 -0.46547633\n",
      " -0.4147521   0.61150616]\n"
     ]
    }
   ],
   "source": [
    "str1=u\"動作片 電影 劇情 導演 美國\"\n",
    "test_text=str1.split(' ')\n",
    "inferred_vector=models.infer_vector(doc_words=test_text)\n",
    "print(inferred_vector)"
   ]
  },
  {
   "cell_type": "code",
   "execution_count": null,
   "metadata": {},
   "outputs": [],
   "source": []
  }
 ],
 "metadata": {
  "kernelspec": {
   "display_name": "Python 3",
   "language": "python",
   "name": "python3"
  },
  "language_info": {
   "codemirror_mode": {
    "name": "ipython",
    "version": 3
   },
   "file_extension": ".py",
   "mimetype": "text/x-python",
   "name": "python",
   "nbconvert_exporter": "python",
   "pygments_lexer": "ipython3",
   "version": "3.7.3"
  },
  "widgets": {
   "state": {},
   "version": "1.1.2"
  }
 },
 "nbformat": 4,
 "nbformat_minor": 2
}
