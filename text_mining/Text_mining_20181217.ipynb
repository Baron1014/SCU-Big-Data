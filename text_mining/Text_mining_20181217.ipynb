{
 "cells": [
  {
   "cell_type": "code",
   "execution_count": null,
   "metadata": {},
   "outputs": [],
   "source": [
    "#Exercise II"
   ]
  },
  {
   "cell_type": "code",
   "execution_count": 1,
   "metadata": {},
   "outputs": [],
   "source": [
    "import torch"
   ]
  },
  {
   "cell_type": "code",
   "execution_count": 10,
   "metadata": {},
   "outputs": [],
   "source": [
    "class TwoLayerNet(torch.nn.Module):\n",
    "    def __init__(self,D_in,H1,H2,H3,D_out):\n",
    "        super(TwoLayerNet,self).__init__()\n",
    "        self.__linear1 = torch.nn.Linear(D_in,H1)\n",
    "        self.__linear2 = torch.nn.Linear(H1,H2)\n",
    "        self.__linear3 = torch.nn.Linear(H2,H3)\n",
    "        self.__linear4 = torch.nn.Linear(H3,D_out) \n",
    "        \n",
    "    def forward (self,x):\n",
    "        h_relu = self.__linear1(x).clamp(min=0)\n",
    "        h2_relu = self.__linear2(h_relu)\n",
    "        h3_relu = self.__linear3(h2_relu)\n",
    "        y_pred = self.__linear4(h3_relu)\n",
    "        return y_pred"
   ]
  },
  {
   "cell_type": "code",
   "execution_count": 11,
   "metadata": {},
   "outputs": [],
   "source": [
    "D_in ,H1,H2,H3,D_out = 3,4,3,4,2\n",
    "N =10\n",
    "x = torch.randn(N,D_in)\n",
    "y = torch.randn(N,D_out)\n",
    "\n",
    "model = TwoLayerNet(D_in,H1,H2,H3,D_out)\n",
    "\n",
    "criterion = torch.nn.MSELoss(reduction = 'sum')\n",
    "optimizer = torch.optim.SGD(model.parameters(),lr = 1e-4)\n",
    "\n"
   ]
  },
  {
   "cell_type": "code",
   "execution_count": 12,
   "metadata": {},
   "outputs": [
    {
     "name": "stdout",
     "output_type": "stream",
     "text": [
      "step 499|18.0156\r"
     ]
    }
   ],
   "source": [
    "for t in range(500):\n",
    "    y_pred = model.forward(x)\n",
    "    loss = criterion(y_pred,y)\n",
    "    print('step %d|%.4f'%(t,loss.item()),end = '\\r')\n",
    "    \n",
    "    optimizer.zero_grad()\n",
    "    loss.backward()\n",
    "    optimizer.step()"
   ]
  },
  {
   "cell_type": "code",
   "execution_count": null,
   "metadata": {},
   "outputs": [],
   "source": []
  }
 ],
 "metadata": {
  "kernelspec": {
   "display_name": "Python 3",
   "language": "python",
   "name": "python3"
  },
  "language_info": {
   "codemirror_mode": {
    "name": "ipython",
    "version": 3
   },
   "file_extension": ".py",
   "mimetype": "text/x-python",
   "name": "python",
   "nbconvert_exporter": "python",
   "pygments_lexer": "ipython3",
   "version": "3.7.3"
  },
  "widgets": {
   "state": {},
   "version": "1.1.2"
  }
 },
 "nbformat": 4,
 "nbformat_minor": 2
}
